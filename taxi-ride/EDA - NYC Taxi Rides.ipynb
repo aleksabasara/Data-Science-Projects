{
 "cells": [
  {
   "cell_type": "markdown",
   "metadata": {},
   "source": [
    "# Exploring NYC Taxi Ride Data \n",
    "By Aleksa Basara\n",
    "\n",
    "\n",
    "\n"
   ]
  },
  {
   "cell_type": "markdown",
   "metadata": {},
   "source": [
    "# Part 1: Introduction\n"
   ]
  },
  {
   "cell_type": "markdown",
   "metadata": {},
   "source": [
    "## A) Project Description\n"
   ]
  },
  {
   "cell_type": "markdown",
   "metadata": {},
   "source": [
    "### About the Topic\n",
    "\n"
   ]
  },
  {
   "cell_type": "markdown",
   "metadata": {},
   "source": [
    "I came across an article this year about a topic I had never considered before -- the price of NYC taxi medallions. The NYC Taxi and Limousine Commission only has about 13,000 in circulation and they typically go for no less than 100,000 dollars but have reached as high as $1.3 million in 2013. When I saw these prices, I immediately thought NYC taxi drivers were moguls in disguise. After some digging, I learned that many lease or split their profits with the companies that own the taxi drivers. After paying off the company, they walk away with little more than minimum wage and often work more than 12 hour shifts to make ends meet. \n",
    "\n",
    "As they don't set their own rates, it seemed the best ways to make more money would be to either work more hours or earn more from tips. I decided to explore taxi trip data to see if I could learn more about taxi rides and how much people tip. I ended up finding just the data I was looking for... but for Green Taxis.\n",
    "\n",
    "Green taxis are similar to yellow taxis, with a few key differences. They are also metered rides; however, they don't do on-street hail rides on yellow taxi turf (Manhatten below 110th street on the West side and 96th on the east). Nonetheless, the data I found gave valuable information about location, duration, and payment amount for each trip."
   ]
  },
  {
   "cell_type": "markdown",
   "metadata": {},
   "source": [
    "### Where does the data come from?\n",
    "\n",
    "The 2016 NYC Green Taxi dataset contains 16.4 million rows and 23 columns. It represents trip records from all rides taken in green taxis in NYC in 2016. The data was taken from NYC OpenData and can be found here: https://data.cityofnewyork.us/Transportation/2016-Green-Taxi-Trip-Data/hvrh-b6nb\n",
    "\n",
    "I highly recommend also downloading and studying the data dictionary for the trip record data found on the same page with the data download. Reading this dictionary will help you understand the variables in the dataset so you know what to look out for in the cleaning process.\n",
    "\n",
    "The trip record dataset mentioned above contains both latitude/longitude of the pickup/dropoff locations. It also contains data on 265 Location IDs throughout the city, numbered 1-265. As IDs representing area segments are simpler to conceptualize than coordinates, I merged the trip record dataset with a dataset containing the ID number, borough, zone, and service zone. This data can be found through the NYC Taxi & Limousine Commision, here: http://www.nyc.gov/html/tlc/html/about/trip_record_data.shtml  "
   ]
  },
  {
   "cell_type": "markdown",
   "metadata": {},
   "source": [
    "## B) Import Packages and Finalize Dataset\n"
   ]
  },
  {
   "cell_type": "code",
   "execution_count": 10,
   "metadata": {},
   "outputs": [
    {
     "name": "stderr",
     "output_type": "stream",
     "text": [
      "Warning message:\n",
      "\"package 'devtools' is in use and will not be installed\"Skipping install of 'xda' from a github remote, the SHA1 (86cf14db) has not changed since last install.\n",
      "  Use `force = TRUE` to force installation\n",
      "Warning message:\n",
      "\"package 'gplots' is in use and will not be installed\""
     ]
    }
   ],
   "source": [
    "#Import necessary packages\n",
    "#install.packages(\"data.table\")\n",
    "library(data.table) #Package for large data processing\n",
    "\n",
    "install.packages('devtools')#Package for installing from github\n",
    "library(devtools)\n",
    "install_github(\"ujjwalkarn/xda\") #Install XDA\n",
    "library(xda) #Package for exploratory data analysis made by Ujjwal Karn \n",
    "\n",
    "#install.packages(\"lubridate\")\n",
    "library(lubridate) #Handling dates\n",
    "\n",
    "#install.packages(\"dyplr\")\n",
    "library(dplyr) #R grammar\n",
    "\n",
    "#install.packages(\"ggplot2\")\n",
    "library(ggplot2) #Data viz\n",
    "\n",
    "install.packages(\"gplots\")\n",
    "library(gplots) #Data viz\n",
    "\n",
    "#install.packages(\"reshape2\")\n",
    "library(reshape2) #Mostly for melt function"
   ]
  },
  {
   "cell_type": "markdown",
   "metadata": {},
   "source": [
    "### Data Import Options\n",
    "\n",
    "**Option 1 (Default)-- **\n",
    "This is for those who have only downloaded the raw datasets and have NOT yet done any merging or cleaning. Most people will likely choose this option. Once you complete Option 1, SKIP Option 2 and then proceed to Part 2: Data Cleaning\n",
    "\n",
    "**Option 2 -- **\n",
    "This is for those running the code who have already once been through Option 1 AND have completed \"Part 2: Data Cleaning\" AND have already exported the resulting dataset to their computer. There is only ONE dataset being downloaded in this step, and should be smaller than the \"main\" dataset being downloaded in Option 1. If you go through Option 2, SKIP \"Part 2: Data Cleaning\"."
   ]
  },
  {
   "cell_type": "markdown",
   "metadata": {},
   "source": [
    "### Data Import Option 1 -- First time run-through import and merge\n"
   ]
  },
  {
   "cell_type": "code",
   "execution_count": 11,
   "metadata": {},
   "outputs": [
    {
     "name": "stdout",
     "output_type": "stream",
     "text": [
      "\r",
      "Read 0.0% of 16385532 rows\r",
      "Read 0.7% of 16385532 rows\r",
      "Read 1.6% of 16385532 rows\r",
      "Read 2.4% of 16385532 rows\r",
      "Read 3.4% of 16385532 rows\r",
      "Read 4.2% of 16385532 rows\r",
      "Read 5.1% of 16385532 rows\r",
      "Read 6.0% of 16385532 rows\r",
      "Read 6.9% of 16385532 rows\r",
      "Read 7.8% of 16385532 rows\r",
      "Read 8.6% of 16385532 rows\r",
      "Read 9.5% of 16385532 rows\r",
      "Read 10.2% of 16385532 rows\r",
      "Read 10.9% of 16385532 rows\r",
      "Read 11.7% of 16385532 rows\r",
      "Read 12.4% of 16385532 rows\r",
      "Read 13.1% of 16385532 rows\r",
      "Read 13.9% of 16385532 rows\r",
      "Read 14.6% of 16385532 rows\r",
      "Read 15.3% of 16385532 rows\r",
      "Read 16.1% of 16385532 rows\r",
      "Read 16.8% of 16385532 rows\r",
      "Read 17.6% of 16385532 rows\r",
      "Read 18.4% of 16385532 rows\r",
      "Read 19.2% of 16385532 rows\r",
      "Read 19.9% of 16385532 rows\r",
      "Read 20.7% of 16385532 rows\r",
      "Read 21.4% of 16385532 rows\r",
      "Read 22.2% of 16385532 rows\r",
      "Read 22.9% of 16385532 rows\r",
      "Read 23.7% of 16385532 rows\r",
      "Read 24.4% of 16385532 rows\r",
      "Read 25.1% of 16385532 rows\r",
      "Read 25.9% of 16385532 rows\r",
      "Read 26.6% of 16385532 rows\r",
      "Read 27.4% of 16385532 rows\r",
      "Read 28.1% of 16385532 rows\r",
      "Read 28.9% of 16385532 rows\r",
      "Read 29.7% of 16385532 rows\r",
      "Read 30.5% of 16385532 rows\r",
      "Read 31.2% of 16385532 rows\r",
      "Read 31.9% of 16385532 rows\r",
      "Read 32.7% of 16385532 rows\r",
      "Read 33.4% of 16385532 rows\r",
      "Read 34.2% of 16385532 rows\r",
      "Read 34.9% of 16385532 rows\r",
      "Read 35.6% of 16385532 rows\r",
      "Read 36.4% of 16385532 rows\r",
      "Read 37.2% of 16385532 rows\r",
      "Read 38.0% of 16385532 rows\r",
      "Read 38.8% of 16385532 rows\r",
      "Read 39.5% of 16385532 rows\r",
      "Read 40.2% of 16385532 rows\r",
      "Read 41.0% of 16385532 rows\r",
      "Read 41.7% of 16385532 rows\r",
      "Read 42.4% of 16385532 rows\r",
      "Read 43.1% of 16385532 rows\r",
      "Read 43.9% of 16385532 rows\r",
      "Read 44.7% of 16385532 rows\r",
      "Read 45.4% of 16385532 rows\r",
      "Read 46.1% of 16385532 rows\r",
      "Read 46.9% of 16385532 rows\r",
      "Read 47.6% of 16385532 rows\r",
      "Read 48.3% of 16385532 rows\r",
      "Read 49.1% of 16385532 rows\r",
      "Read 49.8% of 16385532 rows\r",
      "Read 50.5% of 16385532 rows\r",
      "Read 51.3% of 16385532 rows\r",
      "Read 52.0% of 16385532 rows\r",
      "Read 52.7% of 16385532 rows\r",
      "Read 53.5% of 16385532 rows\r",
      "Read 54.2% of 16385532 rows\r",
      "Read 54.9% of 16385532 rows\r",
      "Read 56.1% of 16385532 rows\r",
      "Read 57.4% of 16385532 rows\r",
      "Read 58.7% of 16385532 rows\r",
      "Read 59.9% of 16385532 rows\r",
      "Read 61.2% of 16385532 rows\r",
      "Read 62.6% of 16385532 rows\r",
      "Read 63.8% of 16385532 rows\r",
      "Read 65.1% of 16385532 rows\r",
      "Read 66.4% of 16385532 rows\r",
      "Read 67.7% of 16385532 rows\r",
      "Read 69.0% of 16385532 rows\r",
      "Read 70.2% of 16385532 rows\r",
      "Read 71.5% of 16385532 rows\r",
      "Read 72.7% of 16385532 rows\r",
      "Read 74.0% of 16385532 rows\r",
      "Read 75.3% of 16385532 rows\r",
      "Read 76.6% of 16385532 rows\r",
      "Read 77.9% of 16385532 rows\r",
      "Read 79.2% of 16385532 rows\r",
      "Read 80.4% of 16385532 rows\r",
      "Read 81.7% of 16385532 rows\r",
      "Read 83.0% of 16385532 rows\r",
      "Read 84.3% of 16385532 rows\r",
      "Read 85.6% of 16385532 rows\r",
      "Read 86.9% of 16385532 rows\r",
      "Read 88.2% of 16385532 rows\r",
      "Read 89.5% of 16385532 rows\r",
      "Read 90.8% of 16385532 rows\r",
      "Read 92.0% of 16385532 rows\r",
      "Read 93.3% of 16385532 rows\r",
      "Read 94.6% of 16385532 rows\r",
      "Read 95.9% of 16385532 rows\r",
      "Read 97.3% of 16385532 rows\r",
      "Read 98.6% of 16385532 rows\r",
      "Read 100.0% of 16385532 rows\r",
      "Read 16385532 rows and 23 (of 23) columns from 2.076 GB file in 00:02:07\n"
     ]
    }
   ],
   "source": [
    "#Import main dataset with trip record data\n",
    "setwd(\"C:/Documents/Data Science Projects/1 - NYC Taxi Drivers/Data\")\n",
    "mainData = fread(\"2016_taxi_data.csv\")"
   ]
  },
  {
   "cell_type": "code",
   "execution_count": 12,
   "metadata": {},
   "outputs": [],
   "source": [
    "#Import Pickup (PU) Location ID dataset and merge with main dataset\n",
    "PUzoneData = fread(\"PUtaxiZones.csv\")\n",
    "merge1Data = merge(mainData, PUzoneData)"
   ]
  },
  {
   "cell_type": "code",
   "execution_count": 13,
   "metadata": {},
   "outputs": [],
   "source": [
    "#Import Dropoff (DO) Location ID dataset and merge with merge1Data\n",
    "DOzoneData = fread(\"DOtaxiZones.csv\")\n",
    "merge2Data = merge(merge1Data, DOzoneData, by=\"DOLocationID\")"
   ]
  },
  {
   "cell_type": "markdown",
   "metadata": {},
   "source": [
    "As Option 2 users may want to reuse some of the commands in \"Part 2: Data Cleaning Step\", we will name our data the same thing as we would in Option 2. So for both Parts 2 and 3, our starting dataset will be named: taxiDT. "
   ]
  },
  {
   "cell_type": "code",
   "execution_count": 14,
   "metadata": {},
   "outputs": [],
   "source": [
    "taxiDT = merge2Data"
   ]
  },
  {
   "cell_type": "markdown",
   "metadata": {},
   "source": [
    "### Data Import Option 2 -- For those already with a merged, cleaned, and smaller dataset"
   ]
  },
  {
   "cell_type": "code",
   "execution_count": 15,
   "metadata": {},
   "outputs": [],
   "source": [
    "#setwd(\"C:/Documents/Data Science Projects/1 - NYC Taxi Drivers/Data\")\n",
    "#taxiDT = fread(\"small_taxi_data.csv\") #We really just change and use the first fread() statement from Option 1"
   ]
  },
  {
   "cell_type": "markdown",
   "metadata": {},
   "source": [
    "# Part 2: Data Cleaning\n"
   ]
  },
  {
   "cell_type": "markdown",
   "metadata": {},
   "source": [
    "## A) Take a preliminary look at the data"
   ]
  },
  {
   "cell_type": "code",
   "execution_count": 16,
   "metadata": {},
   "outputs": [
    {
     "data": {
      "text/html": [
       "<ol class=list-inline>\n",
       "\t<li>'DOLocationID'</li>\n",
       "\t<li>'PULocationID'</li>\n",
       "\t<li>'VendorID'</li>\n",
       "\t<li>'lpep_pickup_datetime'</li>\n",
       "\t<li>'Lpep_dropoff_datetime'</li>\n",
       "\t<li>'Store_and_fwd_flag'</li>\n",
       "\t<li>'RateCodeID'</li>\n",
       "\t<li>'Pickup_longitude'</li>\n",
       "\t<li>'Pickup_latitude'</li>\n",
       "\t<li>'Dropoff_longitude'</li>\n",
       "\t<li>'Dropoff_latitude'</li>\n",
       "\t<li>'Passenger_count'</li>\n",
       "\t<li>'Trip_distance'</li>\n",
       "\t<li>'Fare_amount'</li>\n",
       "\t<li>'Extra'</li>\n",
       "\t<li>'MTA_tax'</li>\n",
       "\t<li>'Tip_amount'</li>\n",
       "\t<li>'Tolls_amount'</li>\n",
       "\t<li>'Ehail_fee'</li>\n",
       "\t<li>'improvement_surcharge'</li>\n",
       "\t<li>'Total_amount'</li>\n",
       "\t<li>'Payment_type'</li>\n",
       "\t<li>'Trip_type'</li>\n",
       "\t<li>'PUborough'</li>\n",
       "\t<li>'PUzone'</li>\n",
       "\t<li>'PU_service_zone'</li>\n",
       "\t<li>'DOborough'</li>\n",
       "\t<li>'DOzone'</li>\n",
       "\t<li>'DO_service_zone'</li>\n",
       "</ol>\n"
      ],
      "text/latex": [
       "\\begin{enumerate*}\n",
       "\\item 'DOLocationID'\n",
       "\\item 'PULocationID'\n",
       "\\item 'VendorID'\n",
       "\\item 'lpep\\_pickup\\_datetime'\n",
       "\\item 'Lpep\\_dropoff\\_datetime'\n",
       "\\item 'Store\\_and\\_fwd\\_flag'\n",
       "\\item 'RateCodeID'\n",
       "\\item 'Pickup\\_longitude'\n",
       "\\item 'Pickup\\_latitude'\n",
       "\\item 'Dropoff\\_longitude'\n",
       "\\item 'Dropoff\\_latitude'\n",
       "\\item 'Passenger\\_count'\n",
       "\\item 'Trip\\_distance'\n",
       "\\item 'Fare\\_amount'\n",
       "\\item 'Extra'\n",
       "\\item 'MTA\\_tax'\n",
       "\\item 'Tip\\_amount'\n",
       "\\item 'Tolls\\_amount'\n",
       "\\item 'Ehail\\_fee'\n",
       "\\item 'improvement\\_surcharge'\n",
       "\\item 'Total\\_amount'\n",
       "\\item 'Payment\\_type'\n",
       "\\item 'Trip\\_type'\n",
       "\\item 'PUborough'\n",
       "\\item 'PUzone'\n",
       "\\item 'PU\\_service\\_zone'\n",
       "\\item 'DOborough'\n",
       "\\item 'DOzone'\n",
       "\\item 'DO\\_service\\_zone'\n",
       "\\end{enumerate*}\n"
      ],
      "text/markdown": [
       "1. 'DOLocationID'\n",
       "2. 'PULocationID'\n",
       "3. 'VendorID'\n",
       "4. 'lpep_pickup_datetime'\n",
       "5. 'Lpep_dropoff_datetime'\n",
       "6. 'Store_and_fwd_flag'\n",
       "7. 'RateCodeID'\n",
       "8. 'Pickup_longitude'\n",
       "9. 'Pickup_latitude'\n",
       "10. 'Dropoff_longitude'\n",
       "11. 'Dropoff_latitude'\n",
       "12. 'Passenger_count'\n",
       "13. 'Trip_distance'\n",
       "14. 'Fare_amount'\n",
       "15. 'Extra'\n",
       "16. 'MTA_tax'\n",
       "17. 'Tip_amount'\n",
       "18. 'Tolls_amount'\n",
       "19. 'Ehail_fee'\n",
       "20. 'improvement_surcharge'\n",
       "21. 'Total_amount'\n",
       "22. 'Payment_type'\n",
       "23. 'Trip_type'\n",
       "24. 'PUborough'\n",
       "25. 'PUzone'\n",
       "26. 'PU_service_zone'\n",
       "27. 'DOborough'\n",
       "28. 'DOzone'\n",
       "29. 'DO_service_zone'\n",
       "\n",
       "\n"
      ],
      "text/plain": [
       " [1] \"DOLocationID\"          \"PULocationID\"          \"VendorID\"             \n",
       " [4] \"lpep_pickup_datetime\"  \"Lpep_dropoff_datetime\" \"Store_and_fwd_flag\"   \n",
       " [7] \"RateCodeID\"            \"Pickup_longitude\"      \"Pickup_latitude\"      \n",
       "[10] \"Dropoff_longitude\"     \"Dropoff_latitude\"      \"Passenger_count\"      \n",
       "[13] \"Trip_distance\"         \"Fare_amount\"           \"Extra\"                \n",
       "[16] \"MTA_tax\"               \"Tip_amount\"            \"Tolls_amount\"         \n",
       "[19] \"Ehail_fee\"             \"improvement_surcharge\" \"Total_amount\"         \n",
       "[22] \"Payment_type\"          \"Trip_type\"             \"PUborough\"            \n",
       "[25] \"PUzone\"                \"PU_service_zone\"       \"DOborough\"            \n",
       "[28] \"DOzone\"                \"DO_service_zone\"      "
      ]
     },
     "metadata": {},
     "output_type": "display_data"
    }
   ],
   "source": [
    "#Get column names of the dataset\n",
    "colnames(taxiDT)"
   ]
  },
  {
   "cell_type": "code",
   "execution_count": 17,
   "metadata": {},
   "outputs": [
    {
     "data": {
      "text/html": [
       "<ol class=list-inline>\n",
       "\t<li>7367502</li>\n",
       "\t<li>29</li>\n",
       "</ol>\n"
      ],
      "text/latex": [
       "\\begin{enumerate*}\n",
       "\\item 7367502\n",
       "\\item 29\n",
       "\\end{enumerate*}\n"
      ],
      "text/markdown": [
       "1. 7367502\n",
       "2. 29\n",
       "\n",
       "\n"
      ],
      "text/plain": [
       "[1] 7367502      29"
      ]
     },
     "metadata": {},
     "output_type": "display_data"
    }
   ],
   "source": [
    "dim(taxiDT)"
   ]
  },
  {
   "cell_type": "markdown",
   "metadata": {},
   "source": [
    "\n",
    "Wait -- there are only 7.36 million rows, around 9 million fewer than the 16+ million rows we started out with! I hypothesize this is due to our merge from the data import step. In this step, we used an inner join, which combines the datasets so the resulting dataset contains only entries with values found in both datasets. This means if there were missing LocationIDs, they would have been dropped from the dataset. \n",
    "\n",
    "In the below output, we see the number of missing LocationIDs is about 9 million. Coincidentally, we see that the number of rows left (7.36 million) is the same number of rows missing for the pickup/dropoff coordinate data. Checking this overlap, we see that no rows missing LocationID are also missing coordinate data and vice versa!"
   ]
  },
  {
   "cell_type": "code",
   "execution_count": 18,
   "metadata": {},
   "outputs": [
    {
     "data": {
      "text/html": [
       "<dl class=dl-horizontal>\n",
       "\t<dt>VendorID</dt>\n",
       "\t\t<dd>0</dd>\n",
       "\t<dt>lpep_pickup_datetime</dt>\n",
       "\t\t<dd>0</dd>\n",
       "\t<dt>Lpep_dropoff_datetime</dt>\n",
       "\t\t<dd>0</dd>\n",
       "\t<dt>Store_and_fwd_flag</dt>\n",
       "\t\t<dd>0</dd>\n",
       "\t<dt>RateCodeID</dt>\n",
       "\t\t<dd>0</dd>\n",
       "\t<dt>Pickup_longitude</dt>\n",
       "\t\t<dd>7367502</dd>\n",
       "\t<dt>Pickup_latitude</dt>\n",
       "\t\t<dd>7367502</dd>\n",
       "\t<dt>Dropoff_longitude</dt>\n",
       "\t\t<dd>7367502</dd>\n",
       "\t<dt>Dropoff_latitude</dt>\n",
       "\t\t<dd>7367502</dd>\n",
       "\t<dt>Passenger_count</dt>\n",
       "\t\t<dd>0</dd>\n",
       "\t<dt>Trip_distance</dt>\n",
       "\t\t<dd>0</dd>\n",
       "\t<dt>Fare_amount</dt>\n",
       "\t\t<dd>0</dd>\n",
       "\t<dt>Extra</dt>\n",
       "\t\t<dd>0</dd>\n",
       "\t<dt>MTA_tax</dt>\n",
       "\t\t<dd>0</dd>\n",
       "\t<dt>Tip_amount</dt>\n",
       "\t\t<dd>0</dd>\n",
       "\t<dt>Tolls_amount</dt>\n",
       "\t\t<dd>0</dd>\n",
       "\t<dt>Ehail_fee</dt>\n",
       "\t\t<dd>16385532</dd>\n",
       "\t<dt>improvement_surcharge</dt>\n",
       "\t\t<dd>0</dd>\n",
       "\t<dt>Total_amount</dt>\n",
       "\t\t<dd>0</dd>\n",
       "\t<dt>Payment_type</dt>\n",
       "\t\t<dd>0</dd>\n",
       "\t<dt>Trip_type</dt>\n",
       "\t\t<dd>472</dd>\n",
       "\t<dt>PULocationID</dt>\n",
       "\t\t<dd>9018030</dd>\n",
       "\t<dt>DOLocationID</dt>\n",
       "\t\t<dd>9018030</dd>\n",
       "</dl>\n"
      ],
      "text/latex": [
       "\\begin{description*}\n",
       "\\item[VendorID] 0\n",
       "\\item[lpep\\textbackslash{}\\_pickup\\textbackslash{}\\_datetime] 0\n",
       "\\item[Lpep\\textbackslash{}\\_dropoff\\textbackslash{}\\_datetime] 0\n",
       "\\item[Store\\textbackslash{}\\_and\\textbackslash{}\\_fwd\\textbackslash{}\\_flag] 0\n",
       "\\item[RateCodeID] 0\n",
       "\\item[Pickup\\textbackslash{}\\_longitude] 7367502\n",
       "\\item[Pickup\\textbackslash{}\\_latitude] 7367502\n",
       "\\item[Dropoff\\textbackslash{}\\_longitude] 7367502\n",
       "\\item[Dropoff\\textbackslash{}\\_latitude] 7367502\n",
       "\\item[Passenger\\textbackslash{}\\_count] 0\n",
       "\\item[Trip\\textbackslash{}\\_distance] 0\n",
       "\\item[Fare\\textbackslash{}\\_amount] 0\n",
       "\\item[Extra] 0\n",
       "\\item[MTA\\textbackslash{}\\_tax] 0\n",
       "\\item[Tip\\textbackslash{}\\_amount] 0\n",
       "\\item[Tolls\\textbackslash{}\\_amount] 0\n",
       "\\item[Ehail\\textbackslash{}\\_fee] 16385532\n",
       "\\item[improvement\\textbackslash{}\\_surcharge] 0\n",
       "\\item[Total\\textbackslash{}\\_amount] 0\n",
       "\\item[Payment\\textbackslash{}\\_type] 0\n",
       "\\item[Trip\\textbackslash{}\\_type] 472\n",
       "\\item[PULocationID] 9018030\n",
       "\\item[DOLocationID] 9018030\n",
       "\\end{description*}\n"
      ],
      "text/markdown": [
       "VendorID\n",
       ":   0lpep_pickup_datetime\n",
       ":   0Lpep_dropoff_datetime\n",
       ":   0Store_and_fwd_flag\n",
       ":   0RateCodeID\n",
       ":   0Pickup_longitude\n",
       ":   7367502Pickup_latitude\n",
       ":   7367502Dropoff_longitude\n",
       ":   7367502Dropoff_latitude\n",
       ":   7367502Passenger_count\n",
       ":   0Trip_distance\n",
       ":   0Fare_amount\n",
       ":   0Extra\n",
       ":   0MTA_tax\n",
       ":   0Tip_amount\n",
       ":   0Tolls_amount\n",
       ":   0Ehail_fee\n",
       ":   16385532improvement_surcharge\n",
       ":   0Total_amount\n",
       ":   0Payment_type\n",
       ":   0Trip_type\n",
       ":   472PULocationID\n",
       ":   9018030DOLocationID\n",
       ":   9018030\n",
       "\n"
      ],
      "text/plain": [
       "             VendorID  lpep_pickup_datetime Lpep_dropoff_datetime \n",
       "                    0                     0                     0 \n",
       "   Store_and_fwd_flag            RateCodeID      Pickup_longitude \n",
       "                    0                     0               7367502 \n",
       "      Pickup_latitude     Dropoff_longitude      Dropoff_latitude \n",
       "              7367502               7367502               7367502 \n",
       "      Passenger_count         Trip_distance           Fare_amount \n",
       "                    0                     0                     0 \n",
       "                Extra               MTA_tax            Tip_amount \n",
       "                    0                     0                     0 \n",
       "         Tolls_amount             Ehail_fee improvement_surcharge \n",
       "                    0              16385532                     0 \n",
       "         Total_amount          Payment_type             Trip_type \n",
       "                    0                     0                   472 \n",
       "         PULocationID          DOLocationID \n",
       "              9018030               9018030 "
      ]
     },
     "metadata": {},
     "output_type": "display_data"
    }
   ],
   "source": [
    "#Take a look at number of missing values from all variables of the original main dataset with record data\n",
    "colSums(is.na(mainData))"
   ]
  },
  {
   "cell_type": "code",
   "execution_count": 19,
   "metadata": {},
   "outputs": [
    {
     "data": {
      "text/plain": [
       "       \n",
       "          FALSE    TRUE\n",
       "  FALSE       0 9018030\n",
       "  TRUE  7367502       0"
      ]
     },
     "metadata": {},
     "output_type": "display_data"
    }
   ],
   "source": [
    "#Check overlap between coordinate and LocationID data\n",
    "table(is.na(mainData$Pickup_longitude), is.na(mainData$PULocationID))"
   ]
  },
  {
   "cell_type": "markdown",
   "metadata": {},
   "source": [
    "\n",
    "We will now get a summary of the data to get a basic idea of what the data looks like. We use this step to make sure our data makes sense (no unwanted missing values or values that doesn't make sense -- e.g. a negative value for a variable that should only take positive values)."
   ]
  },
  {
   "cell_type": "code",
   "execution_count": 20,
   "metadata": {},
   "outputs": [
    {
     "data": {
      "text/plain": [
       "  DOLocationID    PULocationID      VendorID     lpep_pickup_datetime\n",
       " Min.   :  1.0   Min.   :  1.0   Min.   :1.000   Length:7367502      \n",
       " 1st Qu.: 61.0   1st Qu.: 49.0   1st Qu.:2.000   Class :character    \n",
       " Median :129.0   Median : 89.0   Median :2.000   Mode  :character    \n",
       " Mean   :129.4   Mean   :114.6   Mean   :1.794                       \n",
       " 3rd Qu.:193.0   3rd Qu.:179.0   3rd Qu.:2.000                       \n",
       " Max.   :265.0   Max.   :265.0   Max.   :2.000                       \n",
       "                                                                     \n",
       " Lpep_dropoff_datetime Store_and_fwd_flag   RateCodeID    Pickup_longitude \n",
       " Length:7367502        Length:7367502     Min.   : 1.00   Min.   : NA      \n",
       " Class :character      Class :character   1st Qu.: 1.00   1st Qu.: NA      \n",
       " Mode  :character      Mode  :character   Median : 1.00   Median : NA      \n",
       "                                          Mean   : 1.09   Mean   :NaN      \n",
       "                                          3rd Qu.: 1.00   3rd Qu.: NA      \n",
       "                                          Max.   :99.00   Max.   : NA      \n",
       "                                                          NA's   :7367502  \n",
       " Pickup_latitude   Dropoff_longitude Dropoff_latitude  Passenger_count\n",
       " Min.   : NA       Min.   : NA       Min.   : NA       Min.   :0.000  \n",
       " 1st Qu.: NA       1st Qu.: NA       1st Qu.: NA       1st Qu.:1.000  \n",
       " Median : NA       Median : NA       Median : NA       Median :1.000  \n",
       " Mean   :NaN       Mean   :NaN       Mean   :NaN       Mean   :1.358  \n",
       " 3rd Qu.: NA       3rd Qu.: NA       3rd Qu.: NA       3rd Qu.:1.000  \n",
       " Max.   : NA       Max.   : NA       Max.   : NA       Max.   :9.000  \n",
       " NA's   :7367502   NA's   :7367502   NA's   :7367502                  \n",
       " Trip_distance      Fare_amount          Extra            MTA_tax       \n",
       " Min.   :  0.000   Min.   :-499.00   Min.   :-4.5000   Min.   :-0.5000  \n",
       " 1st Qu.:  1.020   1st Qu.:   6.50   1st Qu.: 0.0000   1st Qu.: 0.5000  \n",
       " Median :  1.810   Median :   9.00   Median : 0.5000   Median : 0.5000  \n",
       " Mean   :  2.785   Mean   :  12.12   Mean   : 0.3531   Mean   : 0.4869  \n",
       " 3rd Qu.:  3.460   3rd Qu.:  14.50   3rd Qu.: 0.5000   3rd Qu.: 0.5000  \n",
       " Max.   :698.560   Max.   :5005.50   Max.   : 4.5000   Max.   : 0.5000  \n",
       "                                                                        \n",
       "   Tip_amount       Tolls_amount      Ehail_fee      improvement_surcharge\n",
       " Min.   :-51.410   Min.   :-50.0000   Mode:logical   Min.   :-0.3000      \n",
       " 1st Qu.:  0.000   1st Qu.:  0.0000   NA's:7367502   1st Qu.: 0.3000      \n",
       " Median :  0.000   Median :  0.0000                  Median : 0.3000      \n",
       " Mean   :  1.211   Mean   :  0.1101                  Mean   : 0.2922      \n",
       " 3rd Qu.:  2.000   3rd Qu.:  0.0000                  3rd Qu.: 0.3000      \n",
       " Max.   :714.000   Max.   :900.0000                  Max.   : 0.3000      \n",
       "                                                                          \n",
       "  Total_amount      Payment_type     Trip_type      PUborough        \n",
       " Min.   :-499.00   Min.   :1.000   Min.   :1.000   Length:7367502    \n",
       " 1st Qu.:   7.80   1st Qu.:1.000   1st Qu.:1.000   Class :character  \n",
       " Median :  11.30   Median :2.000   Median :1.000   Mode  :character  \n",
       " Mean   :  14.61   Mean   :1.521   Mean   :1.021                     \n",
       " 3rd Qu.:  17.30   3rd Qu.:2.000   3rd Qu.:1.000                     \n",
       " Max.   :5006.30   Max.   :5.000   Max.   :2.000                     \n",
       "                                   NA's   :28                        \n",
       "    PUzone          PU_service_zone     DOborough            DOzone         \n",
       " Length:7367502     Length:7367502     Length:7367502     Length:7367502    \n",
       " Class :character   Class :character   Class :character   Class :character  \n",
       " Mode  :character   Mode  :character   Mode  :character   Mode  :character  \n",
       "                                                                            \n",
       "                                                                            \n",
       "                                                                            \n",
       "                                                                            \n",
       " DO_service_zone   \n",
       " Length:7367502    \n",
       " Class :character  \n",
       " Mode  :character  \n",
       "                   \n",
       "                   \n",
       "                   \n",
       "                   "
      ]
     },
     "metadata": {},
     "output_type": "display_data"
    }
   ],
   "source": [
    "#Get summary of data\n",
    "summary(taxiDT)"
   ]
  },
  {
   "cell_type": "markdown",
   "metadata": {},
   "source": [
    "From the above summary output, we notice several things.\n",
    "\n",
    "1) There are variables that should be treated as categorical variables but are instead being treated as numerical, continous variables. To correct this, we should redefine them.\n",
    "\n",
    "2) This output doesn't conveniently also show the number of missing values for each variable. After some research, I found a solid package that gives the breakdown of categorical variables and continous variables separately, as well as reports the number of missing values for both. However, we will only look at the categorical variables that don't have so many levels that it'd be impractical to analyze them. We also won't look at whether the data collected was first stored then forwarded."
   ]
  },
  {
   "cell_type": "code",
   "execution_count": 21,
   "metadata": {},
   "outputs": [],
   "source": [
    "#Redefine categorical variables\n",
    "taxiDT$PULocationID = as.factor(taxiDT$PULocationID)\n",
    "taxiDT$DOLocationID = as.factor(taxiDT$DOLocationID)\n",
    "taxiDT$Payment_type = as.factor(taxiDT$Payment_type)\n",
    "taxiDT$VendorID = as.factor(taxiDT$VendorID)\n",
    "taxiDT$RateCodeID = as.factor(taxiDT$RateCodeID)\n",
    "taxiDT$Trip_type = as.factor(taxiDT$Trip_type)"
   ]
  },
  {
   "cell_type": "code",
   "execution_count": 22,
   "metadata": {
    "scrolled": true
   },
   "outputs": [
    {
     "data": {
      "text/html": [
       "<table>\n",
       "<thead><tr><th></th><th scope=col>n</th><th scope=col>miss</th><th scope=col>miss%</th><th scope=col>unique</th><th scope=col>top5levels:count</th></tr></thead>\n",
       "<tbody>\n",
       "\t<tr><th scope=row>DOLocationID</th><td>7367502                                                                                                                    </td><td>    0                                                                                                                      </td><td>0.0000000000                                                                                                               </td><td>263                                                                                                                        </td><td>42:236016, 74:232634, 7:221853, 41:210571, 129:201447                                                                      </td></tr>\n",
       "\t<tr><th scope=row>PULocationID</th><td>7367502                                                                                                                    </td><td>    0                                                                                                                      </td><td>0.0000000000                                                                                                               </td><td>258                                                                                                                        </td><td>74:414336, 41:401061, 7:357081, 75:344590, 255:317145                                                                      </td></tr>\n",
       "\t<tr><th scope=row>VendorID</th><td>7367502                                                                                                                    </td><td>    0                                                                                                                      </td><td>0.0000000000                                                                                                               </td><td>  2                                                                                                                        </td><td>2:5847074, 1:1520428                                                                                                       </td></tr>\n",
       "\t<tr><th scope=row>RateCodeID</th><td>7367502                                                                                                                    </td><td>    0                                                                                                                      </td><td>0.0000000000                                                                                                               </td><td>  7                                                                                                                        </td><td>1:7184406, 5:153283, 2:19095, 3:5770, 4:4797                                                                               </td></tr>\n",
       "\t<tr><th scope=row>Payment_type</th><td>7367502                                                                                                                    </td><td>    0                                                                                                                      </td><td>0.0000000000                                                                                                               </td><td>  5                                                                                                                        </td><td>2:3712938, 1:3601317, 3:33294, 4:19637, 5:316                                                                              </td></tr>\n",
       "\t<tr><th scope=row>Trip_type</th><td>7367474                                                                                                                    </td><td>   28                                                                                                                      </td><td>0.0003800474                                                                                                               </td><td>  3                                                                                                                        </td><td>1:7214073, 2:153401                                                                                                        </td></tr>\n",
       "\t<tr><th scope=row>PUborough</th><td>7367502                                                                                                                    </td><td>    0                                                                                                                      </td><td>0.0000000000                                                                                                               </td><td>  7                                                                                                                        </td><td>Brooklyn:2711023, Manhattan:2228193, Queens:2098011, Bronx:314927, Unknown:13723                                           </td></tr>\n",
       "\t<tr><th scope=row>PUzone</th><td>7364276                                                                                                                    </td><td> 3226                                                                                                                      </td><td>0.0437868900                                                                                                               </td><td>257                                                                                                                        </td><td>East Harlem North:414336, Central Harlem:401061, Astoria:357081, East Harlem South:344590, Williamsburg (North Side):317145</td></tr>\n",
       "\t<tr><th scope=row>PU_service_zone</th><td>7367502                                                                                                                    </td><td>    0                                                                                                                      </td><td>0.0000000000                                                                                                               </td><td>  5                                                                                                                        </td><td>Boro Zone:7251071, Yellow Zone:99703, N/A:13723, Airports:2825, EWR:180                                                    </td></tr>\n",
       "\t<tr><th scope=row>DOborough</th><td>7367502                                                                                                                    </td><td>    0                                                                                                                      </td><td>0.0000000000                                                                                                               </td><td>  7                                                                                                                        </td><td>Manhattan:2612339, Brooklyn:2231717, Queens:2058978, Bronx:430804, Unknown:27496                                           </td></tr>\n",
       "\t<tr><th scope=row>DOzone</th><td>7349642                                                                                                                    </td><td>17860                                                                                                                      </td><td>0.2424159505                                                                                                               </td><td>262                                                                                                                        </td><td>Central Harlem North:236016, East Harlem North:232634, Astoria:221853, Central Harlem:210571, Jackson Heights:201447       </td></tr>\n",
       "\t<tr><th scope=row>DO_service_zone</th><td>7367502                                                                                                                    </td><td>    0                                                                                                                      </td><td>0.0000000000                                                                                                               </td><td>  5                                                                                                                        </td><td>Boro Zone:5897836, Yellow Zone:1291029, Airports:147775, N/A:27496, EWR:3366                                               </td></tr>\n",
       "</tbody>\n",
       "</table>\n"
      ],
      "text/latex": [
       "\\begin{tabular}{r|lllll}\n",
       "  & n & miss & miss\\% & unique & top5levels:count\\\\\n",
       "\\hline\n",
       "\tDOLocationID & 7367502                                                                                                                     &     0                                                                                                                       & 0.0000000000                                                                                                                & 263                                                                                                                         & 42:236016, 74:232634, 7:221853, 41:210571, 129:201447                                                                      \\\\\n",
       "\tPULocationID & 7367502                                                                                                                     &     0                                                                                                                       & 0.0000000000                                                                                                                & 258                                                                                                                         & 74:414336, 41:401061, 7:357081, 75:344590, 255:317145                                                                      \\\\\n",
       "\tVendorID & 7367502                                                                                                                     &     0                                                                                                                       & 0.0000000000                                                                                                                &   2                                                                                                                         & 2:5847074, 1:1520428                                                                                                       \\\\\n",
       "\tRateCodeID & 7367502                                                                                                                     &     0                                                                                                                       & 0.0000000000                                                                                                                &   7                                                                                                                         & 1:7184406, 5:153283, 2:19095, 3:5770, 4:4797                                                                               \\\\\n",
       "\tPayment\\_type & 7367502                                                                                                                     &     0                                                                                                                       & 0.0000000000                                                                                                                &   5                                                                                                                         & 2:3712938, 1:3601317, 3:33294, 4:19637, 5:316                                                                              \\\\\n",
       "\tTrip\\_type & 7367474                                                                                                                     &    28                                                                                                                       & 0.0003800474                                                                                                                &   3                                                                                                                         & 1:7214073, 2:153401                                                                                                        \\\\\n",
       "\tPUborough & 7367502                                                                                                                     &     0                                                                                                                       & 0.0000000000                                                                                                                &   7                                                                                                                         & Brooklyn:2711023, Manhattan:2228193, Queens:2098011, Bronx:314927, Unknown:13723                                           \\\\\n",
       "\tPUzone & 7364276                                                                                                                     &  3226                                                                                                                       & 0.0437868900                                                                                                                & 257                                                                                                                         & East Harlem North:414336, Central Harlem:401061, Astoria:357081, East Harlem South:344590, Williamsburg (North Side):317145\\\\\n",
       "\tPU\\_service\\_zone & 7367502                                                                                                                     &     0                                                                                                                       & 0.0000000000                                                                                                                &   5                                                                                                                         & Boro Zone:7251071, Yellow Zone:99703, N/A:13723, Airports:2825, EWR:180                                                    \\\\\n",
       "\tDOborough & 7367502                                                                                                                     &     0                                                                                                                       & 0.0000000000                                                                                                                &   7                                                                                                                         & Manhattan:2612339, Brooklyn:2231717, Queens:2058978, Bronx:430804, Unknown:27496                                           \\\\\n",
       "\tDOzone & 7349642                                                                                                                     & 17860                                                                                                                       & 0.2424159505                                                                                                                & 262                                                                                                                         & Central Harlem North:236016, East Harlem North:232634, Astoria:221853, Central Harlem:210571, Jackson Heights:201447       \\\\\n",
       "\tDO\\_service\\_zone & 7367502                                                                                                                     &     0                                                                                                                       & 0.0000000000                                                                                                                &   5                                                                                                                         & Boro Zone:5897836, Yellow Zone:1291029, Airports:147775, N/A:27496, EWR:3366                                               \\\\\n",
       "\\end{tabular}\n"
      ],
      "text/markdown": [
       "\n",
       "| <!--/--> | n | miss | miss% | unique | top5levels:count | \n",
       "|---|---|---|---|---|---|---|---|---|---|---|---|\n",
       "| DOLocationID | 7367502                                                                                                                     |     0                                                                                                                       | 0.0000000000                                                                                                                | 263                                                                                                                         | 42:236016, 74:232634, 7:221853, 41:210571, 129:201447                                                                       | \n",
       "| PULocationID | 7367502                                                                                                                     |     0                                                                                                                       | 0.0000000000                                                                                                                | 258                                                                                                                         | 74:414336, 41:401061, 7:357081, 75:344590, 255:317145                                                                       | \n",
       "| VendorID | 7367502                                                                                                                     |     0                                                                                                                       | 0.0000000000                                                                                                                |   2                                                                                                                         | 2:5847074, 1:1520428                                                                                                        | \n",
       "| RateCodeID | 7367502                                                                                                                     |     0                                                                                                                       | 0.0000000000                                                                                                                |   7                                                                                                                         | 1:7184406, 5:153283, 2:19095, 3:5770, 4:4797                                                                                | \n",
       "| Payment_type | 7367502                                                                                                                     |     0                                                                                                                       | 0.0000000000                                                                                                                |   5                                                                                                                         | 2:3712938, 1:3601317, 3:33294, 4:19637, 5:316                                                                               | \n",
       "| Trip_type | 7367474                                                                                                                     |    28                                                                                                                       | 0.0003800474                                                                                                                |   3                                                                                                                         | 1:7214073, 2:153401                                                                                                         | \n",
       "| PUborough | 7367502                                                                                                                     |     0                                                                                                                       | 0.0000000000                                                                                                                |   7                                                                                                                         | Brooklyn:2711023, Manhattan:2228193, Queens:2098011, Bronx:314927, Unknown:13723                                            | \n",
       "| PUzone | 7364276                                                                                                                     |  3226                                                                                                                       | 0.0437868900                                                                                                                | 257                                                                                                                         | East Harlem North:414336, Central Harlem:401061, Astoria:357081, East Harlem South:344590, Williamsburg (North Side):317145 | \n",
       "| PU_service_zone | 7367502                                                                                                                     |     0                                                                                                                       | 0.0000000000                                                                                                                |   5                                                                                                                         | Boro Zone:7251071, Yellow Zone:99703, N/A:13723, Airports:2825, EWR:180                                                     | \n",
       "| DOborough | 7367502                                                                                                                     |     0                                                                                                                       | 0.0000000000                                                                                                                |   7                                                                                                                         | Manhattan:2612339, Brooklyn:2231717, Queens:2058978, Bronx:430804, Unknown:27496                                            | \n",
       "| DOzone | 7349642                                                                                                                     | 17860                                                                                                                       | 0.2424159505                                                                                                                | 262                                                                                                                         | Central Harlem North:236016, East Harlem North:232634, Astoria:221853, Central Harlem:210571, Jackson Heights:201447        | \n",
       "| DO_service_zone | 7367502                                                                                                                     |     0                                                                                                                       | 0.0000000000                                                                                                                |   5                                                                                                                         | Boro Zone:5897836, Yellow Zone:1291029, Airports:147775, N/A:27496, EWR:3366                                                | \n",
       "\n",
       "\n"
      ],
      "text/plain": [
       "                n       miss  miss%        unique\n",
       "DOLocationID    7367502     0 0.0000000000 263   \n",
       "PULocationID    7367502     0 0.0000000000 258   \n",
       "VendorID        7367502     0 0.0000000000   2   \n",
       "RateCodeID      7367502     0 0.0000000000   7   \n",
       "Payment_type    7367502     0 0.0000000000   5   \n",
       "Trip_type       7367474    28 0.0003800474   3   \n",
       "PUborough       7367502     0 0.0000000000   7   \n",
       "PUzone          7364276  3226 0.0437868900 257   \n",
       "PU_service_zone 7367502     0 0.0000000000   5   \n",
       "DOborough       7367502     0 0.0000000000   7   \n",
       "DOzone          7349642 17860 0.2424159505 262   \n",
       "DO_service_zone 7367502     0 0.0000000000   5   \n",
       "                top5levels:count                                                                                                           \n",
       "DOLocationID    42:236016, 74:232634, 7:221853, 41:210571, 129:201447                                                                      \n",
       "PULocationID    74:414336, 41:401061, 7:357081, 75:344590, 255:317145                                                                      \n",
       "VendorID        2:5847074, 1:1520428                                                                                                       \n",
       "RateCodeID      1:7184406, 5:153283, 2:19095, 3:5770, 4:4797                                                                               \n",
       "Payment_type    2:3712938, 1:3601317, 3:33294, 4:19637, 5:316                                                                              \n",
       "Trip_type       1:7214073, 2:153401                                                                                                        \n",
       "PUborough       Brooklyn:2711023, Manhattan:2228193, Queens:2098011, Bronx:314927, Unknown:13723                                           \n",
       "PUzone          East Harlem North:414336, Central Harlem:401061, Astoria:357081, East Harlem South:344590, Williamsburg (North Side):317145\n",
       "PU_service_zone Boro Zone:7251071, Yellow Zone:99703, N/A:13723, Airports:2825, EWR:180                                                    \n",
       "DOborough       Manhattan:2612339, Brooklyn:2231717, Queens:2058978, Bronx:430804, Unknown:27496                                           \n",
       "DOzone          Central Harlem North:236016, East Harlem North:232634, Astoria:221853, Central Harlem:210571, Jackson Heights:201447       \n",
       "DO_service_zone Boro Zone:5897836, Yellow Zone:1291029, Airports:147775, N/A:27496, EWR:3366                                               "
      ]
     },
     "metadata": {},
     "output_type": "display_data"
    }
   ],
   "source": [
    "#Use xda package to get summary of categorical variables\n",
    "badCatVar = c('lpep_pickup_datetime', 'Lpep_dropoff_datetime', 'Store_and_fwd_flag', \n",
    "              'trip_date') #Exclude variables whose distributions we don't care about\n",
    "charSummary(taxiDT[,!(names(taxiDT) %in% badCatVar), with=FALSE])"
   ]
  },
  {
   "cell_type": "markdown",
   "metadata": {},
   "source": [
    "RateCodeID should have only 6 levels, but instead it has 7. We see below some entries are coded as 99, which likely mean they were invalid or missing. We shall remove these entries shortly."
   ]
  },
  {
   "cell_type": "code",
   "execution_count": 23,
   "metadata": {},
   "outputs": [
    {
     "data": {
      "text/html": [
       "<ol class=list-inline>\n",
       "\t<li>5</li>\n",
       "\t<li>1</li>\n",
       "\t<li>3</li>\n",
       "\t<li>2</li>\n",
       "\t<li>4</li>\n",
       "\t<li>6</li>\n",
       "\t<li>99</li>\n",
       "</ol>\n"
      ],
      "text/latex": [
       "\\begin{enumerate*}\n",
       "\\item 5\n",
       "\\item 1\n",
       "\\item 3\n",
       "\\item 2\n",
       "\\item 4\n",
       "\\item 6\n",
       "\\item 99\n",
       "\\end{enumerate*}\n"
      ],
      "text/markdown": [
       "1. 5\n",
       "2. 1\n",
       "3. 3\n",
       "4. 2\n",
       "5. 4\n",
       "6. 6\n",
       "7. 99\n",
       "\n",
       "\n"
      ],
      "text/plain": [
       "[1] 5  1  3  2  4  6  99\n",
       "Levels: 1 2 3 4 5 6 99"
      ]
     },
     "metadata": {},
     "output_type": "display_data"
    }
   ],
   "source": [
    "unique(taxiDT$RateCodeID)"
   ]
  },
  {
   "cell_type": "markdown",
   "metadata": {},
   "source": [
    "We next look at the continous variables. Since we know the coordinate information will be missing, we will omit them from our summary."
   ]
  },
  {
   "cell_type": "code",
   "execution_count": 24,
   "metadata": {},
   "outputs": [
    {
     "data": {
      "text/html": [
       "<table>\n",
       "<thead><tr><th></th><th scope=col>n</th><th scope=col>mean</th><th scope=col>sd</th><th scope=col>max</th><th scope=col>min</th><th scope=col>range</th><th scope=col>nunique</th><th scope=col>nzeros</th><th scope=col>iqr</th><th scope=col>lowerbound</th><th scope=col>...</th><th scope=col>mode</th><th scope=col>miss</th><th scope=col>miss%</th><th scope=col>1%</th><th scope=col>5%</th><th scope=col>25%</th><th scope=col>50%</th><th scope=col>75%</th><th scope=col>95%</th><th scope=col>99%</th></tr></thead>\n",
       "<tbody>\n",
       "\t<tr><th scope=row>Passenger_count</th><td>7367502</td><td> 1.358 </td><td> 1.0256</td><td>   9.0 </td><td>   0.0 </td><td>   9.0 </td><td>   10  </td><td>   1178</td><td>0.00   </td><td> 1.00  </td><td>...    </td><td>1.0    </td><td>0      </td><td>0      </td><td>1.0    </td><td>1.00   </td><td>1.00   </td><td> 1.00  </td><td> 1.00  </td><td> 5.00  </td><td> 6.00  </td></tr>\n",
       "\t<tr><th scope=row>Trip_distance</th><td>7367502</td><td> 2.785 </td><td> 2.9389</td><td> 698.6 </td><td>   0.0 </td><td> 698.6 </td><td> 4317  </td><td>  99175</td><td>2.44   </td><td>-2.64  </td><td>...    </td><td>0.0    </td><td>0      </td><td>0      </td><td>0.0    </td><td>0.46   </td><td>1.02   </td><td> 1.81  </td><td> 3.46  </td><td> 8.29  </td><td>14.38  </td></tr>\n",
       "\t<tr><th scope=row>Fare_amount</th><td>7367502</td><td>12.121 </td><td>10.4377</td><td>5005.5 </td><td>-499.0 </td><td>5504.5 </td><td> 2059  </td><td>  19807</td><td>8.00   </td><td>-5.50  </td><td>...    </td><td>6.0    </td><td>0      </td><td>0      </td><td>2.5    </td><td>4.00   </td><td>6.50   </td><td> 9.00  </td><td>14.50  </td><td>29.50  </td><td>50.00  </td></tr>\n",
       "\t<tr><th scope=row>Extra</th><td>7367502</td><td> 0.353 </td><td> 0.3818</td><td>   4.5 </td><td>  -4.5 </td><td>   9.0 </td><td>   16  </td><td>3422118</td><td>0.50   </td><td>-0.75  </td><td>...    </td><td>0.0    </td><td>0      </td><td>0      </td><td>0.0    </td><td>0.00   </td><td>0.00   </td><td> 0.50  </td><td> 0.50  </td><td> 1.00  </td><td> 1.00  </td></tr>\n",
       "\t<tr><th scope=row>MTA_tax</th><td>7367502</td><td> 0.487 </td><td> 0.0856</td><td>   0.5 </td><td>  -0.5 </td><td>   1.0 </td><td>    4  </td><td> 165452</td><td>0.00   </td><td> 0.50  </td><td>...    </td><td>0.5    </td><td>0      </td><td>0      </td><td>0.0    </td><td>0.50   </td><td>0.50   </td><td> 0.50  </td><td> 0.50  </td><td> 0.50  </td><td> 0.50  </td></tr>\n",
       "\t<tr><th scope=row>Tip_amount</th><td>7367502</td><td> 1.211 </td><td> 2.4360</td><td> 714.0 </td><td> -51.4 </td><td> 765.4 </td><td> 3068  </td><td>4308749</td><td>2.00   </td><td>-3.00  </td><td>...    </td><td>0.0    </td><td>0      </td><td>0      </td><td>0.0    </td><td>0.00   </td><td>0.00   </td><td> 0.00  </td><td> 2.00  </td><td> 5.00  </td><td> 8.95  </td></tr>\n",
       "\t<tr><th scope=row>Tolls_amount</th><td>7367502</td><td> 0.110 </td><td> 1.0898</td><td> 900.0 </td><td> -50.0 </td><td> 950.0 </td><td>  412  </td><td>7229937</td><td>0.00   </td><td> 0.00  </td><td>...    </td><td>0.0    </td><td>0      </td><td>0      </td><td>0.0    </td><td>0.00   </td><td>0.00   </td><td> 0.00  </td><td> 0.00  </td><td> 0.00  </td><td> 5.54  </td></tr>\n",
       "\t<tr><th scope=row>improvement_surcharge</th><td>7367502</td><td> 0.292 </td><td> 0.0511</td><td>   0.3 </td><td>  -0.3 </td><td>   0.6 </td><td>    3  </td><td> 162235</td><td>0.00   </td><td> 0.30  </td><td>...    </td><td>0.3    </td><td>0      </td><td>0      </td><td>0.0    </td><td>0.30   </td><td>0.30   </td><td> 0.30  </td><td> 0.30  </td><td> 0.30  </td><td> 0.30  </td></tr>\n",
       "\t<tr><th scope=row>Total_amount</th><td>7367502</td><td>14.612 </td><td>11.8643</td><td>5006.3 </td><td>-499.0 </td><td>5505.3 </td><td>10245  </td><td>  18865</td><td>9.50   </td><td>-6.45  </td><td>...    </td><td>6.8    </td><td>0      </td><td>0      </td><td>3.8    </td><td>5.30   </td><td>7.80   </td><td>11.30  </td><td>17.30  </td><td>35.00  </td><td>56.84  </td></tr>\n",
       "</tbody>\n",
       "</table>\n"
      ],
      "text/latex": [
       "\\begin{tabular}{r|llllllllllllllllllllllll}\n",
       "  & n & mean & sd & max & min & range & nunique & nzeros & iqr & lowerbound & ... & mode & miss & miss\\% & 1\\% & 5\\% & 25\\% & 50\\% & 75\\% & 95\\% & 99\\%\\\\\n",
       "\\hline\n",
       "\tPassenger\\_count & 7367502 &  1.358  &  1.0256 &    9.0  &    0.0  &    9.0  &    10   &    1178 & 0.00    &  1.00   & ...     & 1.0     & 0       & 0       & 1.0     & 1.00    & 1.00    &  1.00   &  1.00   &  5.00   &  6.00  \\\\\n",
       "\tTrip\\_distance & 7367502 &  2.785  &  2.9389 &  698.6  &    0.0  &  698.6  &  4317   &   99175 & 2.44    & -2.64   & ...     & 0.0     & 0       & 0       & 0.0     & 0.46    & 1.02    &  1.81   &  3.46   &  8.29   & 14.38  \\\\\n",
       "\tFare\\_amount & 7367502 & 12.121  & 10.4377 & 5005.5  & -499.0  & 5504.5  &  2059   &   19807 & 8.00    & -5.50   & ...     & 6.0     & 0       & 0       & 2.5     & 4.00    & 6.50    &  9.00   & 14.50   & 29.50   & 50.00  \\\\\n",
       "\tExtra & 7367502 &  0.353  &  0.3818 &    4.5  &   -4.5  &    9.0  &    16   & 3422118 & 0.50    & -0.75   & ...     & 0.0     & 0       & 0       & 0.0     & 0.00    & 0.00    &  0.50   &  0.50   &  1.00   &  1.00  \\\\\n",
       "\tMTA\\_tax & 7367502 &  0.487  &  0.0856 &    0.5  &   -0.5  &    1.0  &     4   &  165452 & 0.00    &  0.50   & ...     & 0.5     & 0       & 0       & 0.0     & 0.50    & 0.50    &  0.50   &  0.50   &  0.50   &  0.50  \\\\\n",
       "\tTip\\_amount & 7367502 &  1.211  &  2.4360 &  714.0  &  -51.4  &  765.4  &  3068   & 4308749 & 2.00    & -3.00   & ...     & 0.0     & 0       & 0       & 0.0     & 0.00    & 0.00    &  0.00   &  2.00   &  5.00   &  8.95  \\\\\n",
       "\tTolls\\_amount & 7367502 &  0.110  &  1.0898 &  900.0  &  -50.0  &  950.0  &   412   & 7229937 & 0.00    &  0.00   & ...     & 0.0     & 0       & 0       & 0.0     & 0.00    & 0.00    &  0.00   &  0.00   &  0.00   &  5.54  \\\\\n",
       "\timprovement\\_surcharge & 7367502 &  0.292  &  0.0511 &    0.3  &   -0.3  &    0.6  &     3   &  162235 & 0.00    &  0.30   & ...     & 0.3     & 0       & 0       & 0.0     & 0.30    & 0.30    &  0.30   &  0.30   &  0.30   &  0.30  \\\\\n",
       "\tTotal\\_amount & 7367502 & 14.612  & 11.8643 & 5006.3  & -499.0  & 5505.3  & 10245   &   18865 & 9.50    & -6.45   & ...     & 6.8     & 0       & 0       & 3.8     & 5.30    & 7.80    & 11.30   & 17.30   & 35.00   & 56.84  \\\\\n",
       "\\end{tabular}\n"
      ],
      "text/markdown": [
       "\n",
       "| <!--/--> | n | mean | sd | max | min | range | nunique | nzeros | iqr | lowerbound | ... | mode | miss | miss% | 1% | 5% | 25% | 50% | 75% | 95% | 99% | \n",
       "|---|---|---|---|---|---|---|---|---|\n",
       "| Passenger_count | 7367502 |  1.358  |  1.0256 |    9.0  |    0.0  |    9.0  |    10   |    1178 | 0.00    |  1.00   | ...     | 1.0     | 0       | 0       | 1.0     | 1.00    | 1.00    |  1.00   |  1.00   |  5.00   |  6.00   | \n",
       "| Trip_distance | 7367502 |  2.785  |  2.9389 |  698.6  |    0.0  |  698.6  |  4317   |   99175 | 2.44    | -2.64   | ...     | 0.0     | 0       | 0       | 0.0     | 0.46    | 1.02    |  1.81   |  3.46   |  8.29   | 14.38   | \n",
       "| Fare_amount | 7367502 | 12.121  | 10.4377 | 5005.5  | -499.0  | 5504.5  |  2059   |   19807 | 8.00    | -5.50   | ...     | 6.0     | 0       | 0       | 2.5     | 4.00    | 6.50    |  9.00   | 14.50   | 29.50   | 50.00   | \n",
       "| Extra | 7367502 |  0.353  |  0.3818 |    4.5  |   -4.5  |    9.0  |    16   | 3422118 | 0.50    | -0.75   | ...     | 0.0     | 0       | 0       | 0.0     | 0.00    | 0.00    |  0.50   |  0.50   |  1.00   |  1.00   | \n",
       "| MTA_tax | 7367502 |  0.487  |  0.0856 |    0.5  |   -0.5  |    1.0  |     4   |  165452 | 0.00    |  0.50   | ...     | 0.5     | 0       | 0       | 0.0     | 0.50    | 0.50    |  0.50   |  0.50   |  0.50   |  0.50   | \n",
       "| Tip_amount | 7367502 |  1.211  |  2.4360 |  714.0  |  -51.4  |  765.4  |  3068   | 4308749 | 2.00    | -3.00   | ...     | 0.0     | 0       | 0       | 0.0     | 0.00    | 0.00    |  0.00   |  2.00   |  5.00   |  8.95   | \n",
       "| Tolls_amount | 7367502 |  0.110  |  1.0898 |  900.0  |  -50.0  |  950.0  |   412   | 7229937 | 0.00    |  0.00   | ...     | 0.0     | 0       | 0       | 0.0     | 0.00    | 0.00    |  0.00   |  0.00   |  0.00   |  5.54   | \n",
       "| improvement_surcharge | 7367502 |  0.292  |  0.0511 |    0.3  |   -0.3  |    0.6  |     3   |  162235 | 0.00    |  0.30   | ...     | 0.3     | 0       | 0       | 0.0     | 0.30    | 0.30    |  0.30   |  0.30   |  0.30   |  0.30   | \n",
       "| Total_amount | 7367502 | 14.612  | 11.8643 | 5006.3  | -499.0  | 5505.3  | 10245   |   18865 | 9.50    | -6.45   | ...     | 6.8     | 0       | 0       | 3.8     | 5.30    | 7.80    | 11.30   | 17.30   | 35.00   | 56.84   | \n",
       "\n",
       "\n"
      ],
      "text/plain": [
       "                      n       mean   sd      max    min    range  nunique\n",
       "Passenger_count       7367502  1.358  1.0256    9.0    0.0    9.0    10  \n",
       "Trip_distance         7367502  2.785  2.9389  698.6    0.0  698.6  4317  \n",
       "Fare_amount           7367502 12.121 10.4377 5005.5 -499.0 5504.5  2059  \n",
       "Extra                 7367502  0.353  0.3818    4.5   -4.5    9.0    16  \n",
       "MTA_tax               7367502  0.487  0.0856    0.5   -0.5    1.0     4  \n",
       "Tip_amount            7367502  1.211  2.4360  714.0  -51.4  765.4  3068  \n",
       "Tolls_amount          7367502  0.110  1.0898  900.0  -50.0  950.0   412  \n",
       "improvement_surcharge 7367502  0.292  0.0511    0.3   -0.3    0.6     3  \n",
       "Total_amount          7367502 14.612 11.8643 5006.3 -499.0 5505.3 10245  \n",
       "                      nzeros  iqr  lowerbound ... mode miss miss% 1%  5%   25% \n",
       "Passenger_count          1178 0.00  1.00      ... 1.0  0    0     1.0 1.00 1.00\n",
       "Trip_distance           99175 2.44 -2.64      ... 0.0  0    0     0.0 0.46 1.02\n",
       "Fare_amount             19807 8.00 -5.50      ... 6.0  0    0     2.5 4.00 6.50\n",
       "Extra                 3422118 0.50 -0.75      ... 0.0  0    0     0.0 0.00 0.00\n",
       "MTA_tax                165452 0.00  0.50      ... 0.5  0    0     0.0 0.50 0.50\n",
       "Tip_amount            4308749 2.00 -3.00      ... 0.0  0    0     0.0 0.00 0.00\n",
       "Tolls_amount          7229937 0.00  0.00      ... 0.0  0    0     0.0 0.00 0.00\n",
       "improvement_surcharge  162235 0.00  0.30      ... 0.3  0    0     0.0 0.30 0.30\n",
       "Total_amount            18865 9.50 -6.45      ... 6.8  0    0     3.8 5.30 7.80\n",
       "                      50%   75%   95%   99%  \n",
       "Passenger_count        1.00  1.00  5.00  6.00\n",
       "Trip_distance          1.81  3.46  8.29 14.38\n",
       "Fare_amount            9.00 14.50 29.50 50.00\n",
       "Extra                  0.50  0.50  1.00  1.00\n",
       "MTA_tax                0.50  0.50  0.50  0.50\n",
       "Tip_amount             0.00  2.00  5.00  8.95\n",
       "Tolls_amount           0.00  0.00  0.00  5.54\n",
       "improvement_surcharge  0.30  0.30  0.30  0.30\n",
       "Total_amount          11.30 17.30 35.00 56.84"
      ]
     },
     "metadata": {},
     "output_type": "display_data"
    }
   ],
   "source": [
    "#Use xda package to get summary of continous variables\n",
    "badContVar = c('Pickup_longitude', 'Pickup_latitude', 'Dropoff_longitude', \n",
    "              'Dropoff_latitude') #Exclude variables whose distributions we don't care about\n",
    "numSummary(taxiDT[,!(names(taxiDT) %in% badContVar), with=FALSE])"
   ]
  },
  {
   "cell_type": "markdown",
   "metadata": {},
   "source": [
    "## B) Invalid entries\n"
   ]
  },
  {
   "cell_type": "markdown",
   "metadata": {},
   "source": [
    " These variables appear to have invalid entries:\n",
    " \n",
    "  -  **Payment_type: ** Since we are ultimately interested in the tip percent, we have to consider that tip was only recorded for trips paid for with credit card -- according to the data dictionary. Hence, we will only be interested in the rows with Payment_type = 1.\n",
    "  \n",
    "  \n",
    "  - **Fare_amount: ** Some values are negative. Since tip % will be be Tip_amount divided by (predominantly) Fare_amount, we will also restrict this Fare_amount variable to be strictly greater than 0 in order not to avoid an infinite tip %.\n",
    "  \n",
    "  \n",
    "  - **Extra, MTA_tax, Tip_amount, Tolls_amount, Improvement_surcharge: ** These variables have negative values when they shouldn't. We will assume error and remove these entries."
   ]
  },
  {
   "cell_type": "markdown",
   "metadata": {},
   "source": [
    "## C) Missing values\n"
   ]
  },
  {
   "cell_type": "markdown",
   "metadata": {},
   "source": [
    "These variables appear to have missing values:\n",
    "\n",
    "- **Categorical Variables: ** Of these categorical variables, I see that no variable is missing than 0.25%. This means that it is likely safe to eliminate the rows with these missing values for: Trip_type, PUzone, and DOzone. This will not bias any future results too much.\n"
   ]
  },
  {
   "cell_type": "markdown",
   "metadata": {},
   "source": [
    "## D) Add useful variables + Subset data"
   ]
  },
  {
   "cell_type": "code",
   "execution_count": 25,
   "metadata": {},
   "outputs": [],
   "source": [
    "#Add month variable\n",
    "taxiDT$lpep_pickup_datetime = as.character(taxiDT$lpep_pickup_datetime)\n",
    "taxiDT$trip_date = substr(taxiDT$lpep_pickup_datetime, 0, 10) #Extracts the date (without the timestamp)\n",
    "taxiDT$month = substr(taxiDT$lpep_pickup_datetime, 0, 2)\n",
    "\n",
    "#Add weekday variable\n",
    "taxiDT$weekday = weekdays(as.Date(taxiDT$trip_date, format = \"%m/%d/%Y\"))\n",
    "\n",
    "#Add military_time, pickup_hour, dropoff_hour, time_elapsed\n",
    "taxiDT$PUhour = paste(substr(taxiDT$lpep_pickup_datetime, 12, 13), \n",
    "                      substr(taxiDT$lpep_pickup_datetime, 21, 22))"
   ]
  },
  {
   "cell_type": "code",
   "execution_count": 26,
   "metadata": {},
   "outputs": [],
   "source": [
    "#Subset data to adjust for missing/invalid values\n",
    "taxiDT2 = taxiDT[taxiDT$Payment_type == 1 & taxiDT$Fare_amount > 0 & taxiDT$Extra >= 0 & taxiDT$MTA_tax >= 0 &\n",
    "                   taxiDT$improvement_surcharge >= 0 & taxiDT$Tip_amount >= 0 & !is.na(Trip_type) &\n",
    "                   !is.na(taxiDT$PUzone) & !is.na(taxiDT$DOzone)]"
   ]
  },
  {
   "cell_type": "code",
   "execution_count": 27,
   "metadata": {},
   "outputs": [],
   "source": [
    "#Add tip_percent variable\n",
    "taxiDT2$nonTip = taxiDT2$Total_amount - taxiDT2$Tip_amount\n",
    "taxiDT2$tip_percent = round((taxiDT2$Tip_amount/taxiDT2$nonTip),4)\n",
    "\n",
    "#Remove unnecessary variables\n",
    "taxiDT3 = taxiDT2[, c(\"Pickup_longitude\", \"Pickup_latitude\", \n",
    "                      \"Dropoff_longitude\", \"Dropoff_latitude\", \"Ehail_fee\"):=NULL]\n"
   ]
  },
  {
   "cell_type": "code",
   "execution_count": 28,
   "metadata": {},
   "outputs": [],
   "source": [
    "#Standardize data table name back to taxiDT\n",
    "taxiDT = taxiDT3\n",
    "\n",
    "#write to csv\n",
    "#fwrite(taxiDT, \"small_taxi_data.csv\")"
   ]
  },
  {
   "cell_type": "markdown",
   "metadata": {},
   "source": [
    "# Part 3: Exploratory Data Analysis\n"
   ]
  },
  {
   "cell_type": "markdown",
   "metadata": {},
   "source": [
    "## A) General\n"
   ]
  },
  {
   "cell_type": "code",
   "execution_count": 29,
   "metadata": {},
   "outputs": [],
   "source": [
    "#Make categorical variables factor \n",
    "taxiDT$Payment_type = as.factor(taxiDT$Payment_type)\n",
    "taxiDT$VendorID = as.factor(taxiDT$VendorID)\n",
    "taxiDT$RateCodeID = as.factor(taxiDT$RateCodeID)\n",
    "taxiDT$Trip_type = as.factor(taxiDT$Trip_type)\n",
    "taxiDT$month = as.factor(taxiDT$month)"
   ]
  },
  {
   "cell_type": "code",
   "execution_count": 30,
   "metadata": {},
   "outputs": [
    {
     "data": {
      "text/html": [
       "<table>\n",
       "<thead><tr><th scope=col>DOLocationID</th><th scope=col>PULocationID</th><th scope=col>VendorID</th><th scope=col>lpep_pickup_datetime</th><th scope=col>Lpep_dropoff_datetime</th><th scope=col>Store_and_fwd_flag</th><th scope=col>RateCodeID</th><th scope=col>Passenger_count</th><th scope=col>Trip_distance</th><th scope=col>Fare_amount</th><th scope=col>...</th><th scope=col>PU_service_zone</th><th scope=col>DOborough</th><th scope=col>DOzone</th><th scope=col>DO_service_zone</th><th scope=col>trip_date</th><th scope=col>month</th><th scope=col>weekday</th><th scope=col>PUhour</th><th scope=col>nonTip</th><th scope=col>tip_percent</th></tr></thead>\n",
       "<tbody>\n",
       "\t<tr><td>1                     </td><td>1                     </td><td>2                     </td><td>07/01/2016 10:00:58 AM</td><td>07/01/2016 10:01:00 AM</td><td>N                     </td><td>5                     </td><td>2                     </td><td>0                     </td><td> 75.0                 </td><td>...                   </td><td>EWR                   </td><td>EWR                   </td><td>Newark Airport        </td><td>EWR                   </td><td>07/01/2016            </td><td>07                    </td><td>Friday                </td><td>10 AM                 </td><td> 75.0                 </td><td>0.2000                </td></tr>\n",
       "\t<tr><td>1                     </td><td>1                     </td><td>2                     </td><td>07/01/2016 01:24:00 PM</td><td>07/01/2016 01:24:05 PM</td><td>N                     </td><td>5                     </td><td>1                     </td><td>0                     </td><td> 92.0                 </td><td>...                   </td><td>EWR                   </td><td>EWR                   </td><td>Newark Airport        </td><td>EWR                   </td><td>07/01/2016            </td><td>07                    </td><td>Friday                </td><td>01 PM                 </td><td> 92.0                 </td><td>0.2000                </td></tr>\n",
       "\t<tr><td>1                     </td><td>1                     </td><td>2                     </td><td>07/03/2016 06:50:13 PM</td><td>07/03/2016 06:50:33 PM</td><td>N                     </td><td>5                     </td><td>1                     </td><td>0                     </td><td>116.7                 </td><td>...                   </td><td>EWR                   </td><td>EWR                   </td><td>Newark Airport        </td><td>EWR                   </td><td>07/03/2016            </td><td>07                    </td><td>Sunday                </td><td>06 PM                 </td><td>116.7                 </td><td>0.0857                </td></tr>\n",
       "\t<tr><td>1                     </td><td>1                     </td><td>2                     </td><td>07/06/2016 12:14:30 PM</td><td>07/06/2016 12:15:06 PM</td><td>N                     </td><td>5                     </td><td>2                     </td><td>0                     </td><td> 82.0                 </td><td>...                   </td><td>EWR                   </td><td>EWR                   </td><td>Newark Airport        </td><td>EWR                   </td><td>07/06/2016            </td><td>07                    </td><td>Wednesday             </td><td>12 PM                 </td><td> 82.0                 </td><td>0.0000                </td></tr>\n",
       "\t<tr><td>1                     </td><td>1                     </td><td>2                     </td><td>07/10/2016 12:56:23 PM</td><td>07/10/2016 12:56:26 PM</td><td>N                     </td><td>5                     </td><td>1                     </td><td>0                     </td><td>  4.3                 </td><td>...                   </td><td>EWR                   </td><td>EWR                   </td><td>Newark Airport        </td><td>EWR                   </td><td>07/10/2016            </td><td>07                    </td><td>Sunday                </td><td>12 PM                 </td><td>  4.3                 </td><td>0.2000                </td></tr>\n",
       "\t<tr><td>1                     </td><td>1                     </td><td>2                     </td><td>07/12/2016 09:09:04 AM</td><td>07/12/2016 09:10:27 AM</td><td>N                     </td><td>5                     </td><td>1                     </td><td>0                     </td><td>120.0                 </td><td>...                   </td><td>EWR                   </td><td>EWR                   </td><td>Newark Airport        </td><td>EWR                   </td><td>07/12/2016            </td><td>07                    </td><td>Tuesday               </td><td>09 AM                 </td><td>120.0                 </td><td>0.0000                </td></tr>\n",
       "</tbody>\n",
       "</table>\n"
      ],
      "text/latex": [
       "\\begin{tabular}{r|llllllllllllllllllllllllllllll}\n",
       " DOLocationID & PULocationID & VendorID & lpep\\_pickup\\_datetime & Lpep\\_dropoff\\_datetime & Store\\_and\\_fwd\\_flag & RateCodeID & Passenger\\_count & Trip\\_distance & Fare\\_amount & ... & PU\\_service\\_zone & DOborough & DOzone & DO\\_service\\_zone & trip\\_date & month & weekday & PUhour & nonTip & tip\\_percent\\\\\n",
       "\\hline\n",
       "\t 1                      & 1                      & 2                      & 07/01/2016 10:00:58 AM & 07/01/2016 10:01:00 AM & N                      & 5                      & 2                      & 0                      &  75.0                  & ...                    & EWR                    & EWR                    & Newark Airport         & EWR                    & 07/01/2016             & 07                     & Friday                 & 10 AM                  &  75.0                  & 0.2000                \\\\\n",
       "\t 1                      & 1                      & 2                      & 07/01/2016 01:24:00 PM & 07/01/2016 01:24:05 PM & N                      & 5                      & 1                      & 0                      &  92.0                  & ...                    & EWR                    & EWR                    & Newark Airport         & EWR                    & 07/01/2016             & 07                     & Friday                 & 01 PM                  &  92.0                  & 0.2000                \\\\\n",
       "\t 1                      & 1                      & 2                      & 07/03/2016 06:50:13 PM & 07/03/2016 06:50:33 PM & N                      & 5                      & 1                      & 0                      & 116.7                  & ...                    & EWR                    & EWR                    & Newark Airport         & EWR                    & 07/03/2016             & 07                     & Sunday                 & 06 PM                  & 116.7                  & 0.0857                \\\\\n",
       "\t 1                      & 1                      & 2                      & 07/06/2016 12:14:30 PM & 07/06/2016 12:15:06 PM & N                      & 5                      & 2                      & 0                      &  82.0                  & ...                    & EWR                    & EWR                    & Newark Airport         & EWR                    & 07/06/2016             & 07                     & Wednesday              & 12 PM                  &  82.0                  & 0.0000                \\\\\n",
       "\t 1                      & 1                      & 2                      & 07/10/2016 12:56:23 PM & 07/10/2016 12:56:26 PM & N                      & 5                      & 1                      & 0                      &   4.3                  & ...                    & EWR                    & EWR                    & Newark Airport         & EWR                    & 07/10/2016             & 07                     & Sunday                 & 12 PM                  &   4.3                  & 0.2000                \\\\\n",
       "\t 1                      & 1                      & 2                      & 07/12/2016 09:09:04 AM & 07/12/2016 09:10:27 AM & N                      & 5                      & 1                      & 0                      & 120.0                  & ...                    & EWR                    & EWR                    & Newark Airport         & EWR                    & 07/12/2016             & 07                     & Tuesday                & 09 AM                  & 120.0                  & 0.0000                \\\\\n",
       "\\end{tabular}\n"
      ],
      "text/markdown": [
       "\n",
       "DOLocationID | PULocationID | VendorID | lpep_pickup_datetime | Lpep_dropoff_datetime | Store_and_fwd_flag | RateCodeID | Passenger_count | Trip_distance | Fare_amount | ... | PU_service_zone | DOborough | DOzone | DO_service_zone | trip_date | month | weekday | PUhour | nonTip | tip_percent | \n",
       "|---|---|---|---|---|---|\n",
       "| 1                      | 1                      | 2                      | 07/01/2016 10:00:58 AM | 07/01/2016 10:01:00 AM | N                      | 5                      | 2                      | 0                      |  75.0                  | ...                    | EWR                    | EWR                    | Newark Airport         | EWR                    | 07/01/2016             | 07                     | Friday                 | 10 AM                  |  75.0                  | 0.2000                 | \n",
       "| 1                      | 1                      | 2                      | 07/01/2016 01:24:00 PM | 07/01/2016 01:24:05 PM | N                      | 5                      | 1                      | 0                      |  92.0                  | ...                    | EWR                    | EWR                    | Newark Airport         | EWR                    | 07/01/2016             | 07                     | Friday                 | 01 PM                  |  92.0                  | 0.2000                 | \n",
       "| 1                      | 1                      | 2                      | 07/03/2016 06:50:13 PM | 07/03/2016 06:50:33 PM | N                      | 5                      | 1                      | 0                      | 116.7                  | ...                    | EWR                    | EWR                    | Newark Airport         | EWR                    | 07/03/2016             | 07                     | Sunday                 | 06 PM                  | 116.7                  | 0.0857                 | \n",
       "| 1                      | 1                      | 2                      | 07/06/2016 12:14:30 PM | 07/06/2016 12:15:06 PM | N                      | 5                      | 2                      | 0                      |  82.0                  | ...                    | EWR                    | EWR                    | Newark Airport         | EWR                    | 07/06/2016             | 07                     | Wednesday              | 12 PM                  |  82.0                  | 0.0000                 | \n",
       "| 1                      | 1                      | 2                      | 07/10/2016 12:56:23 PM | 07/10/2016 12:56:26 PM | N                      | 5                      | 1                      | 0                      |   4.3                  | ...                    | EWR                    | EWR                    | Newark Airport         | EWR                    | 07/10/2016             | 07                     | Sunday                 | 12 PM                  |   4.3                  | 0.2000                 | \n",
       "| 1                      | 1                      | 2                      | 07/12/2016 09:09:04 AM | 07/12/2016 09:10:27 AM | N                      | 5                      | 1                      | 0                      | 120.0                  | ...                    | EWR                    | EWR                    | Newark Airport         | EWR                    | 07/12/2016             | 07                     | Tuesday                | 09 AM                  | 120.0                  | 0.0000                 | \n",
       "\n",
       "\n"
      ],
      "text/plain": [
       "  DOLocationID PULocationID VendorID lpep_pickup_datetime  \n",
       "1 1            1            2        07/01/2016 10:00:58 AM\n",
       "2 1            1            2        07/01/2016 01:24:00 PM\n",
       "3 1            1            2        07/03/2016 06:50:13 PM\n",
       "4 1            1            2        07/06/2016 12:14:30 PM\n",
       "5 1            1            2        07/10/2016 12:56:23 PM\n",
       "6 1            1            2        07/12/2016 09:09:04 AM\n",
       "  Lpep_dropoff_datetime  Store_and_fwd_flag RateCodeID Passenger_count\n",
       "1 07/01/2016 10:01:00 AM N                  5          2              \n",
       "2 07/01/2016 01:24:05 PM N                  5          1              \n",
       "3 07/03/2016 06:50:33 PM N                  5          1              \n",
       "4 07/06/2016 12:15:06 PM N                  5          2              \n",
       "5 07/10/2016 12:56:26 PM N                  5          1              \n",
       "6 07/12/2016 09:10:27 AM N                  5          1              \n",
       "  Trip_distance Fare_amount ... PU_service_zone DOborough DOzone        \n",
       "1 0              75.0       ... EWR             EWR       Newark Airport\n",
       "2 0              92.0       ... EWR             EWR       Newark Airport\n",
       "3 0             116.7       ... EWR             EWR       Newark Airport\n",
       "4 0              82.0       ... EWR             EWR       Newark Airport\n",
       "5 0               4.3       ... EWR             EWR       Newark Airport\n",
       "6 0             120.0       ... EWR             EWR       Newark Airport\n",
       "  DO_service_zone trip_date  month weekday   PUhour nonTip tip_percent\n",
       "1 EWR             07/01/2016 07    Friday    10 AM   75.0  0.2000     \n",
       "2 EWR             07/01/2016 07    Friday    01 PM   92.0  0.2000     \n",
       "3 EWR             07/03/2016 07    Sunday    06 PM  116.7  0.0857     \n",
       "4 EWR             07/06/2016 07    Wednesday 12 PM   82.0  0.0000     \n",
       "5 EWR             07/10/2016 07    Sunday    12 PM    4.3  0.2000     \n",
       "6 EWR             07/12/2016 07    Tuesday   09 AM  120.0  0.0000     "
      ]
     },
     "metadata": {},
     "output_type": "display_data"
    }
   ],
   "source": [
    "#Get first few rows of data\n",
    "head(taxiDT)"
   ]
  },
  {
   "cell_type": "markdown",
   "metadata": {},
   "source": [
    "### Figure 1: Average Daily Ridership "
   ]
  },
  {
   "cell_type": "code",
   "execution_count": 31,
   "metadata": {},
   "outputs": [
    {
     "data": {},
     "metadata": {},
     "output_type": "display_data"
    },
    {
     "data": {
      "image/png": "[encoded data removed]",
      "text/plain": [
       "plot without title"
      ]
     },
     "metadata": {},
     "output_type": "display_data"
    }
   ],
   "source": [
    "#CHART 1 -- AVERAGE DAILY RIDERSHIP line chart\n",
    "#Define needed variables\n",
    "ridersByDay = taxiDT %>% group_by(weekday) %>% count()\n",
    "\n",
    "dayCount = taxiDT[, length(unique(trip_date)), by = 'weekday']\n",
    "\n",
    "dayRiders = merge(dayCount, ridersByDay, by = 'weekday')\n",
    "\n",
    "#Re-order by calendar order\n",
    "dayRiders$weekday = ordered(dayRiders$weekday, levels =  c(\"Sunday\", \"Monday\", \"Tuesday\",\n",
    "                                \"Wednesday\", \"Thursday\", \"Friday\",\n",
    "                                \"Saturday\"))\n",
    "\n",
    "#Make the line plot\n",
    "ggplot(data = dayRiders[order(dayRiders$weekday)], aes(weekday, \n",
    "                                                       (dayRiders$n/dayRiders$V1),group=1)) + \n",
    "      geom_point() +\n",
    "      geom_line() + \n",
    "      labs(x=\"Day of the Week\", y=\"Avg # Riders\", title = \"Avg # Riders per Day\")"
   ]
  },
  {
   "cell_type": "markdown",
   "metadata": {},
   "source": [
    "It looks like these taxis get the most traffic on Tuesdays and Sundays!"
   ]
  },
  {
   "cell_type": "markdown",
   "metadata": {},
   "source": [
    "### Figure 2: Passenger Count -- How many people get in a Taxi?"
   ]
  },
  {
   "cell_type": "code",
   "execution_count": 34,
   "metadata": {},
   "outputs": [
    {
     "data": {},
     "metadata": {},
     "output_type": "display_data"
    },
    {
     "data": {
      "image/png": "[encoded data removed]",
      "text/plain": [
       "plot without title"
      ]
     },
     "metadata": {},
     "output_type": "display_data"
    }
   ],
   "source": [
    "#CHART 2 -- PASSENGER COUNT pie chart\n",
    "#Categorize passenger counts into group types\n",
    "taxiDT$passCount = ifelse(taxiDT$Passenger_count ==0, \"No one\", \n",
    "                          ifelse(taxiDT$Passenger_count == 1, \"Alone\",\n",
    "                          ifelse(taxiDT$Passenger_count == 2, \"Pair\", \n",
    "                          ifelse(taxiDT$Passenger_count > 2, \"Group\", taxiDT$Passenger_count))))\n",
    "\n",
    "# Make smaller dataframe with just proportions of passenger group types\n",
    "numPas = taxiDT %>% group_by(passCount) %>% count() \n",
    "passGroupType = transform(numPas, propPass = n/sum(n))\n",
    "\n",
    "passGroupType$label = paste(passGroupType$passCount, \n",
    "                            paste(round(passGroupType$propPass*100, 2), \"%\"), sep = \" - \")\n",
    "\n",
    "# Draw pie chart of passenger group types\n",
    "ggplot(data=passGroupType, mapping = aes(x=\"\", y= propPass, fill = passCount)) + \n",
    "        geom_bar(width=1, stat=\"identity\", show.legend = FALSE) +\n",
    "        coord_polar(theta = \"y\") +\n",
    "        labs(title = \"Passenger Count Breakdown\") +\n",
    "        geom_text(aes(label = label),\n",
    "                  position = position_stack(vjust=0.5),size=3.5, angle=30) "
   ]
  },
  {
   "cell_type": "markdown",
   "metadata": {},
   "source": [
    "### Figure 3: Trip Distance "
   ]
  },
  {
   "cell_type": "code",
   "execution_count": 35,
   "metadata": {},
   "outputs": [
    {
     "data": {},
     "metadata": {},
     "output_type": "display_data"
    },
    {
     "data": {
      "image/png": "[encoded data removed]",
      "text/plain": [
       "plot without title"
      ]
     },
     "metadata": {},
     "output_type": "display_data"
    }
   ],
   "source": [
    "#CHART 3 -- TRIP DISTANCE histogram\n",
    "qplot(taxiDT[Trip_distance < 20]$Trip_distance, geom=\"histogram\", binwidth = 2) +  \n",
    "      xlab(\"Distance\") + \n",
    "      ggtitle(\"Distance Travelled Distribution\") +\n",
    "      geom_vline(aes(xintercept = median(taxiDT$Trip_distance)), color = \"olivedrab2\") \n",
    "      #geom_vline(aes(xintercept = mean(taxiDT$Trip_distance)), color = \"red\")"
   ]
  },
  {
   "cell_type": "markdown",
   "metadata": {},
   "source": [
    "Most rides last for less than 5 miles, with 50% of all rides lasting less than 2 miles."
   ]
  },
  {
   "cell_type": "markdown",
   "metadata": {},
   "source": [
    "### Figure 4: Non-Tip Amount Paid"
   ]
  },
  {
   "cell_type": "code",
   "execution_count": 36,
   "metadata": {},
   "outputs": [
    {
     "data": {},
     "metadata": {},
     "output_type": "display_data"
    },
    {
     "data": {
      "image/png": "[encoded data removed]",
      "text/plain": [
       "plot without title"
      ]
     },
     "metadata": {},
     "output_type": "display_data"
    }
   ],
   "source": [
    "#CHART 4 -- NON-TIP AMOUNT histogram\n",
    "qplot(taxiDT[nonTip < 100]$nonTip, geom=\"histogram\",breaks = seq(0, 100, 5)) +  \n",
    "  xlab(\"Amount ($)\") + \n",
    "  ggtitle(\"Amount of Non-Tip Paid Distribution\") +\n",
    "  geom_vline(aes(xintercept = median(taxiDT$nonTip)), color = \"olivedrab2\")  \n",
    "  #geom_vline(aes(xintercept = mean(taxiDT$nonTip)), color = \"red\")"
   ]
  },
  {
   "cell_type": "markdown",
   "metadata": {},
   "source": [
    "Including fees for tolls and surcharges, it appears that 50% of riders pay less than $12 per trip (before paying tip)."
   ]
  },
  {
   "cell_type": "markdown",
   "metadata": {},
   "source": [
    "### Figure 5: Tip Percent"
   ]
  },
  {
   "cell_type": "code",
   "execution_count": 37,
   "metadata": {},
   "outputs": [
    {
     "data": {},
     "metadata": {},
     "output_type": "display_data"
    },
    {
     "data": {
      "image/png": "[encoded data removed]",
      "text/plain": [
       "plot without title"
      ]
     },
     "metadata": {},
     "output_type": "display_data"
    }
   ],
   "source": [
    "#CHART 5 -- TIP PERCENT histogram\n",
    "qplot(taxiDT[tip_percent < 0.45]$tip_percent, geom=\"histogram\", breaks = seq(0, 0.45, 0.025)) +  \n",
    "  xlab(\"Tip Percent\") + \n",
    "  ggtitle(\"Tip Percent Distribution\") +\n",
    "  geom_vline(aes(xintercept = median(taxiDT$tip_percent)), color = \"olivedrab2\")  "
   ]
  },
  {
   "cell_type": "markdown",
   "metadata": {},
   "source": [
    "It seems that there are several noticeable peaks in tip percent given. The most noticeable peak is at 17.5-20%. We also see a large group of people pay no tip, pay 22.5-25%, and pay 27.5-30%. These numbers likely correspond to pre-coded tip percent suggestions shown on any tablet the taxis have in the car. "
   ]
  },
  {
   "cell_type": "markdown",
   "metadata": {},
   "source": [
    "### FIgure 6: Correlation Plot"
   ]
  },
  {
   "cell_type": "code",
   "execution_count": 39,
   "metadata": {},
   "outputs": [
    {
     "data": {},
     "metadata": {},
     "output_type": "display_data"
    },
    {
     "data": {
      "image/png": "[encoded data removed]",
      "text/plain": [
       "plot without title"
      ]
     },
     "metadata": {},
     "output_type": "display_data"
    }
   ],
   "source": [
    "#CHART 6 -- CORRELATION PLOT\n",
    "quantData = taxiDT[, list(Passenger_count, Trip_distance, Fare_amount, \n",
    "              Extra,MTA_tax, Tip_amount, Tolls_amount, \n",
    "              improvement_surcharge, Total_amount, tip_percent, nonTip)]\n",
    "\n",
    "qplot(x=Var1, y=Var2, data=melt(cor(quantData, use='p')), fill=value, geom='tile') +\n",
    "      scale_fill_gradient2(low='red', high='blue', mid = 'white', midpoint = 0, \n",
    "                           limit=c(-1,1), space='Lab', name='Correlation') + \n",
    "      theme(axis.text.x = element_text(angle=45, vjust=1, size=8, hjust = 1)) +\n",
    "      coord_fixed() + ggtitle(\"Correlation Heatmap\") + \n",
    "      theme(plot.title = element_text(hjust = 0.4)) +\n",
    "      geom_text(aes(Var1, Var2, label=round(value,2)), color=\"black\", size = 2)"
   ]
  },
  {
   "cell_type": "markdown",
   "metadata": {},
   "source": [
    "Of course, we see high correlations between the extra fees and the total amount paid. When a toll is paid, it would make sense for the total amount to go up as well.\n",
    "\n",
    "My initial hunch was that the longer one travels, the more exhausted and less generous they would feel at the end of the trip -- hence resulting in a lower tip percentage. Contrary to my initial hunch, it seems that the tip percent does not have a strong correlation with many of the continous variables, including as trip distance. "
   ]
  },
  {
   "cell_type": "markdown",
   "metadata": {},
   "source": [
    "## B) Focus on Tip Percent\n"
   ]
  },
  {
   "cell_type": "markdown",
   "metadata": {},
   "source": [
    "### Figure 7: Weekday x Hour Tip Percent Heatmap"
   ]
  },
  {
   "cell_type": "code",
   "execution_count": 41,
   "metadata": {},
   "outputs": [
    {
     "data": {},
     "metadata": {},
     "output_type": "display_data"
    },
    {
     "data": {
      "image/png": "[encoded data removed]",
      "text/plain": [
       "plot without title"
      ]
     },
     "metadata": {},
     "output_type": "display_data"
    }
   ],
   "source": [
    "#CHART 7 -- Weekday x Hour tile chart\n",
    "TP_time = taxiDT %>% group_by(weekday, PUhour) %>% \n",
    "          summarize(Tip_Percent = mean(tip_percent)) %>%\n",
    "          mutate(Morning = substr(PUhour, 4, 5)) \n",
    "\n",
    "TP_time= TP_time[order(TP_time$Morning),]\n",
    "\n",
    "ggplot(TP_time, aes(x=ordered(weekday, levels = c(\"Sunday\", \n",
    "                                        \"Monday\", \"Tuesday\",\"Wednesday\", \"Thursday\", \n",
    "                                        \"Friday\", \"Saturday\")), \n",
    "                                        y=ordered(PUhour, levels = c(\"12 AM\", \"01 AM\", \"02 AM\",\n",
    "                                        \"03 AM\", \"04 AM\", \"05 AM\", \"06 AM\", \"07 AM\", \"08 AM\", \n",
    "                                        \"09 AM\", \"10 AM\", \"11 AM\", \"12 PM\", \"01 PM\", \"02 PM\",\n",
    "                                        \"03 PM\", \"04 PM\", \"05 PM\", \"06 PM\", \"07 PM\", \n",
    "                                        \"08 PM\", \"09 PM\", \"10 PM\", \"11 PM\")))) +\n",
    "        geom_tile(aes(fill = Tip_Percent), color = \"white\") + \n",
    "        scale_fill_gradient(low = \"white\", high = 'darkgreen') + \n",
    "        xlab(\"Day of Week\") + ylab(\"Hour of Day\") + ggtitle(\"Tip Percent by Hour of Day Heatmap\")"
   ]
  },
  {
   "cell_type": "markdown",
   "metadata": {},
   "source": [
    "In Figure 7 above, we plot the average tip percentage for that hour and day of the week. Darker colors represent a higher tip percentage. We notice that people tend to tip higher percentages of their fares on Tuesdays and Wednesdays, between 3-4pm and 4-5am, respectively.\n",
    "\n",
    "Typically, people don't tip well around 7am, no matter what day of the week it is!"
   ]
  },
  {
   "cell_type": "markdown",
   "metadata": {},
   "source": [
    "# Part 4: Conclusion\n"
   ]
  },
  {
   "cell_type": "markdown",
   "metadata": {},
   "source": [
    "During this analysis, I learned the following about Green Taxi rides in NYC:\n",
    "\n",
    " - People don't use these taxis that much more on the weekends. \n",
    " \n",
    " - Over 80% of people take a taxi alone. Even when they ride with other people, they aren't swayed one way or another to change the amount they tip.\n",
    " \n",
    " - Riders tip largely according to the pre-coded tip percentages, despite the fact that some of those options are over 25%! This is much higher than the 15-18% gratuity that we are accustomed to giving in restaurants. \n",
    " \n",
    " - As a taxi driver, people don't seem to be the most generous tippers between 6-8am. These are the hours when most people head to work. Perhaps an investigation into New Yorker job satisfaction is in order! But in all seriousness, people seem to tip slightly more in the evenings and just after midnight. "
   ]
  }
 ],
 "metadata": {
  "anaconda-cloud": {},
  "kernelspec": {
   "display_name": "R",
   "language": "R",
   "name": "ir"
  },
  "language_info": {
   "codemirror_mode": "r",
   "file_extension": ".r",
   "mimetype": "text/x-r-source",
   "name": "R",
   "pygments_lexer": "r",
   "version": "3.4.3"
  }
 },
 "nbformat": 4,
 "nbformat_minor": 2
}
