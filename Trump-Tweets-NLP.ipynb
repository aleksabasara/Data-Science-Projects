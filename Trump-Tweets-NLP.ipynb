{
 "cells": [
  {
   "cell_type": "markdown",
   "metadata": {},
   "source": [
    "# Trump Tweet Predictions by Donald Weignberger\n",
    "By Aleksa Basara (ab2295) and Roberto Halpin (rgh224) "
   ]
  },
  {
   "cell_type": "markdown",
   "metadata": {},
   "source": [
    "## Introduction"
   ]
  },
  {
   "cell_type": "markdown",
   "metadata": {},
   "source": [
    "The Donald Trump twitter account has the discussion of many during his presidency. Prior to 2017, he used an Android phone. His staffers, on the other hand, used Iphones. Since both Trump and his staffers tweeted from the @realdonaldtrump twitter account, this allowed other twitter users to make a good guess as to who was tweeting based on what phone Twitter reported the tweet came from. In 2017, Trump switched over to an Iphone, essentially erasing that marked distinction. \n",
    "\n",
    "Fortunately for machine learning enthusiasts, there was still a rich dataset of essentially verified Trump vs Non-Trump tweets, prompting the challenge to predict whether future tweets came from Trump or his staffers based on the language, punctuation, and other features of the tweet.\n",
    "\n",
    "In this project, Roberto and I tackle this challenge of extracting some neat features and predicting Trump using Logistic Regression and Random Forest."
   ]
  },
  {
   "cell_type": "markdown",
   "metadata": {},
   "source": [
    "## Library Import + Preliminary Data Exploration"
   ]
  },
  {
   "cell_type": "code",
   "execution_count": 1,
   "metadata": {},
   "outputs": [],
   "source": [
    "#Import libraries\n",
    "import numpy as np\n",
    "import pandas as pd\n",
    "import re\n",
    "\n",
    "from datetime import *\n",
    "\n",
    "import seaborn as sns #Data viz library\n",
    "\n",
    "import string\n",
    "import random\n",
    "\n",
    "from scipy import stats\n",
    "\n",
    "#Import analysis libraries\n",
    "from sklearn.linear_model import LogisticRegression\n",
    "from sklearn.ensemble import RandomForestClassifier\n",
    "\n",
    "from sklearn import metrics \n",
    "from sklearn.metrics import accuracy_score, mean_squared_error, precision_recall_curve\n",
    "from sklearn.model_selection import cross_val_score\n",
    "\n",
    "from sklearn.model_selection import train_test_split\n",
    "\n",
    "from nltk import TweetTokenizer\n"
   ]
  },
  {
   "cell_type": "code",
   "execution_count": 2,
   "metadata": {},
   "outputs": [],
   "source": [
    "#Read dataset\n",
    "data = pd.read_csv('C:/Documents/CS5780Final/train.csv')"
   ]
  },
  {
   "cell_type": "code",
   "execution_count": 3,
   "metadata": {},
   "outputs": [
    {
     "data": {
      "text/html": [
       "<div>\n",
       "<style scoped>\n",
       "    .dataframe tbody tr th:only-of-type {\n",
       "        vertical-align: middle;\n",
       "    }\n",
       "\n",
       "    .dataframe tbody tr th {\n",
       "        vertical-align: top;\n",
       "    }\n",
       "\n",
       "    .dataframe thead th {\n",
       "        text-align: right;\n",
       "    }\n",
       "</style>\n",
       "<table border=\"1\" class=\"dataframe\">\n",
       "  <thead>\n",
       "    <tr style=\"text-align: right;\">\n",
       "      <th></th>\n",
       "      <th>id</th>\n",
       "      <th>text</th>\n",
       "      <th>favorited</th>\n",
       "      <th>favoriteCount</th>\n",
       "      <th>replyToSN</th>\n",
       "      <th>created</th>\n",
       "      <th>truncated</th>\n",
       "      <th>replyToSID</th>\n",
       "      <th>id.1</th>\n",
       "      <th>replyToUID</th>\n",
       "      <th>statusSource</th>\n",
       "      <th>screenName</th>\n",
       "      <th>retweetCount</th>\n",
       "      <th>isRetweet</th>\n",
       "      <th>retweeted</th>\n",
       "      <th>longitude</th>\n",
       "      <th>latitude</th>\n",
       "      <th>label</th>\n",
       "    </tr>\n",
       "  </thead>\n",
       "  <tbody>\n",
       "    <tr>\n",
       "      <th>0</th>\n",
       "      <td>0</td>\n",
       "      <td>Senior United States District Judge Robert E. ...</td>\n",
       "      <td>False</td>\n",
       "      <td>14207</td>\n",
       "      <td>NaN</td>\n",
       "      <td>7/12/2016 0:56</td>\n",
       "      <td>False</td>\n",
       "      <td>NaN</td>\n",
       "      <td>7.530000e+17</td>\n",
       "      <td>NaN</td>\n",
       "      <td>&lt;a href=\"http://twitter.com/download/iphone\" r...</td>\n",
       "      <td>realDonaldTrump</td>\n",
       "      <td>5256</td>\n",
       "      <td>False</td>\n",
       "      <td>False</td>\n",
       "      <td>NaN</td>\n",
       "      <td>NaN</td>\n",
       "      <td>-1</td>\n",
       "    </tr>\n",
       "    <tr>\n",
       "      <th>1</th>\n",
       "      <td>1</td>\n",
       "      <td>Speech on Veterans' Reform:  https://t.co/XB7R...</td>\n",
       "      <td>False</td>\n",
       "      <td>9666</td>\n",
       "      <td>NaN</td>\n",
       "      <td>7/11/2016 22:18</td>\n",
       "      <td>False</td>\n",
       "      <td>NaN</td>\n",
       "      <td>7.530000e+17</td>\n",
       "      <td>NaN</td>\n",
       "      <td>&lt;a href=\"http://twitter.com/download/iphone\" r...</td>\n",
       "      <td>realDonaldTrump</td>\n",
       "      <td>3432</td>\n",
       "      <td>False</td>\n",
       "      <td>False</td>\n",
       "      <td>NaN</td>\n",
       "      <td>NaN</td>\n",
       "      <td>-1</td>\n",
       "    </tr>\n",
       "    <tr>\n",
       "      <th>2</th>\n",
       "      <td>2</td>\n",
       "      <td>Great poll- Florida! Thank you! https://t.co/4...</td>\n",
       "      <td>False</td>\n",
       "      <td>25531</td>\n",
       "      <td>NaN</td>\n",
       "      <td>7/11/2016 21:40</td>\n",
       "      <td>False</td>\n",
       "      <td>NaN</td>\n",
       "      <td>7.530000e+17</td>\n",
       "      <td>NaN</td>\n",
       "      <td>&lt;a href=\"http://twitter.com/download/iphone\" r...</td>\n",
       "      <td>realDonaldTrump</td>\n",
       "      <td>8810</td>\n",
       "      <td>False</td>\n",
       "      <td>False</td>\n",
       "      <td>NaN</td>\n",
       "      <td>NaN</td>\n",
       "      <td>-1</td>\n",
       "    </tr>\n",
       "    <tr>\n",
       "      <th>3</th>\n",
       "      <td>3</td>\n",
       "      <td>Thoughts and prayers with the victims; and the...</td>\n",
       "      <td>False</td>\n",
       "      <td>28850</td>\n",
       "      <td>NaN</td>\n",
       "      <td>7/11/2016 19:51</td>\n",
       "      <td>False</td>\n",
       "      <td>NaN</td>\n",
       "      <td>7.530000e+17</td>\n",
       "      <td>NaN</td>\n",
       "      <td>&lt;a href=\"http://twitter.com/download/iphone\" r...</td>\n",
       "      <td>realDonaldTrump</td>\n",
       "      <td>9112</td>\n",
       "      <td>False</td>\n",
       "      <td>False</td>\n",
       "      <td>NaN</td>\n",
       "      <td>NaN</td>\n",
       "      <td>-1</td>\n",
       "    </tr>\n",
       "    <tr>\n",
       "      <th>4</th>\n",
       "      <td>4</td>\n",
       "      <td>Join me in Westfield; Indiana- tomorrow night ...</td>\n",
       "      <td>False</td>\n",
       "      <td>12567</td>\n",
       "      <td>NaN</td>\n",
       "      <td>7/11/2016 11:57</td>\n",
       "      <td>False</td>\n",
       "      <td>NaN</td>\n",
       "      <td>7.520000e+17</td>\n",
       "      <td>NaN</td>\n",
       "      <td>&lt;a href=\"http://twitter.com/download/iphone\" r...</td>\n",
       "      <td>realDonaldTrump</td>\n",
       "      <td>4144</td>\n",
       "      <td>False</td>\n",
       "      <td>False</td>\n",
       "      <td>NaN</td>\n",
       "      <td>NaN</td>\n",
       "      <td>-1</td>\n",
       "    </tr>\n",
       "  </tbody>\n",
       "</table>\n",
       "</div>"
      ],
      "text/plain": [
       "   id                                               text  favorited  \\\n",
       "0   0  Senior United States District Judge Robert E. ...      False   \n",
       "1   1  Speech on Veterans' Reform:  https://t.co/XB7R...      False   \n",
       "2   2  Great poll- Florida! Thank you! https://t.co/4...      False   \n",
       "3   3  Thoughts and prayers with the victims; and the...      False   \n",
       "4   4  Join me in Westfield; Indiana- tomorrow night ...      False   \n",
       "\n",
       "   favoriteCount replyToSN          created  truncated  replyToSID  \\\n",
       "0          14207       NaN   7/12/2016 0:56      False         NaN   \n",
       "1           9666       NaN  7/11/2016 22:18      False         NaN   \n",
       "2          25531       NaN  7/11/2016 21:40      False         NaN   \n",
       "3          28850       NaN  7/11/2016 19:51      False         NaN   \n",
       "4          12567       NaN  7/11/2016 11:57      False         NaN   \n",
       "\n",
       "           id.1  replyToUID  \\\n",
       "0  7.530000e+17         NaN   \n",
       "1  7.530000e+17         NaN   \n",
       "2  7.530000e+17         NaN   \n",
       "3  7.530000e+17         NaN   \n",
       "4  7.520000e+17         NaN   \n",
       "\n",
       "                                        statusSource       screenName  \\\n",
       "0  <a href=\"http://twitter.com/download/iphone\" r...  realDonaldTrump   \n",
       "1  <a href=\"http://twitter.com/download/iphone\" r...  realDonaldTrump   \n",
       "2  <a href=\"http://twitter.com/download/iphone\" r...  realDonaldTrump   \n",
       "3  <a href=\"http://twitter.com/download/iphone\" r...  realDonaldTrump   \n",
       "4  <a href=\"http://twitter.com/download/iphone\" r...  realDonaldTrump   \n",
       "\n",
       "   retweetCount  isRetweet  retweeted  longitude  latitude  label  \n",
       "0          5256      False      False        NaN       NaN     -1  \n",
       "1          3432      False      False        NaN       NaN     -1  \n",
       "2          8810      False      False        NaN       NaN     -1  \n",
       "3          9112      False      False        NaN       NaN     -1  \n",
       "4          4144      False      False        NaN       NaN     -1  "
      ]
     },
     "execution_count": 3,
     "metadata": {},
     "output_type": "execute_result"
    }
   ],
   "source": [
    "#View dataset\n",
    "data.head()"
   ]
  },
  {
   "cell_type": "code",
   "execution_count": 4,
   "metadata": {},
   "outputs": [
    {
     "data": {
      "text/plain": [
       "str"
      ]
     },
     "execution_count": 4,
     "metadata": {},
     "output_type": "execute_result"
    }
   ],
   "source": [
    "#Explore dataset a bit\n",
    "#mydata['text'][1]\n",
    "type(data['created'][1])"
   ]
  },
  {
   "cell_type": "code",
   "execution_count": 5,
   "metadata": {},
   "outputs": [
    {
     "data": {
      "text/html": [
       "<div>\n",
       "<style scoped>\n",
       "    .dataframe tbody tr th:only-of-type {\n",
       "        vertical-align: middle;\n",
       "    }\n",
       "\n",
       "    .dataframe tbody tr th {\n",
       "        vertical-align: top;\n",
       "    }\n",
       "\n",
       "    .dataframe thead th {\n",
       "        text-align: right;\n",
       "    }\n",
       "</style>\n",
       "<table border=\"1\" class=\"dataframe\">\n",
       "  <thead>\n",
       "    <tr style=\"text-align: right;\">\n",
       "      <th></th>\n",
       "      <th>id</th>\n",
       "      <th>favoriteCount</th>\n",
       "      <th>replyToSID</th>\n",
       "      <th>id.1</th>\n",
       "      <th>replyToUID</th>\n",
       "      <th>retweetCount</th>\n",
       "      <th>longitude</th>\n",
       "      <th>latitude</th>\n",
       "      <th>label</th>\n",
       "    </tr>\n",
       "  </thead>\n",
       "  <tbody>\n",
       "    <tr>\n",
       "      <th>count</th>\n",
       "      <td>1089.000000</td>\n",
       "      <td>1089.000000</td>\n",
       "      <td>0.0</td>\n",
       "      <td>1.089000e+03</td>\n",
       "      <td>3.000000e+00</td>\n",
       "      <td>1089.000000</td>\n",
       "      <td>2.000000</td>\n",
       "      <td>2.000000</td>\n",
       "      <td>1089.000000</td>\n",
       "    </tr>\n",
       "    <tr>\n",
       "      <th>mean</th>\n",
       "      <td>544.000000</td>\n",
       "      <td>15689.673095</td>\n",
       "      <td>NaN</td>\n",
       "      <td>7.229394e+17</td>\n",
       "      <td>1.468150e+08</td>\n",
       "      <td>5425.376492</td>\n",
       "      <td>-73.883040</td>\n",
       "      <td>40.773742</td>\n",
       "      <td>0.136823</td>\n",
       "    </tr>\n",
       "    <tr>\n",
       "      <th>std</th>\n",
       "      <td>314.511526</td>\n",
       "      <td>12401.107292</td>\n",
       "      <td>NaN</td>\n",
       "      <td>1.811442e+16</td>\n",
       "      <td>1.870245e+08</td>\n",
       "      <td>6464.072195</td>\n",
       "      <td>0.003203</td>\n",
       "      <td>0.005141</td>\n",
       "      <td>0.991051</td>\n",
       "    </tr>\n",
       "    <tr>\n",
       "      <th>min</th>\n",
       "      <td>0.000000</td>\n",
       "      <td>2304.000000</td>\n",
       "      <td>NaN</td>\n",
       "      <td>6.760000e+17</td>\n",
       "      <td>7.592510e+05</td>\n",
       "      <td>713.000000</td>\n",
       "      <td>-73.885305</td>\n",
       "      <td>40.770107</td>\n",
       "      <td>-1.000000</td>\n",
       "    </tr>\n",
       "    <tr>\n",
       "      <th>25%</th>\n",
       "      <td>272.000000</td>\n",
       "      <td>9248.000000</td>\n",
       "      <td>NaN</td>\n",
       "      <td>7.070000e+17</td>\n",
       "      <td>4.141904e+07</td>\n",
       "      <td>2889.000000</td>\n",
       "      <td>-73.884172</td>\n",
       "      <td>40.771924</td>\n",
       "      <td>-1.000000</td>\n",
       "    </tr>\n",
       "    <tr>\n",
       "      <th>50%</th>\n",
       "      <td>544.000000</td>\n",
       "      <td>13563.000000</td>\n",
       "      <td>NaN</td>\n",
       "      <td>7.240000e+17</td>\n",
       "      <td>8.207883e+07</td>\n",
       "      <td>4412.000000</td>\n",
       "      <td>-73.883040</td>\n",
       "      <td>40.773742</td>\n",
       "      <td>1.000000</td>\n",
       "    </tr>\n",
       "    <tr>\n",
       "      <th>75%</th>\n",
       "      <td>816.000000</td>\n",
       "      <td>19275.000000</td>\n",
       "      <td>NaN</td>\n",
       "      <td>7.380000e+17</td>\n",
       "      <td>2.198429e+08</td>\n",
       "      <td>6475.000000</td>\n",
       "      <td>-73.881907</td>\n",
       "      <td>40.775559</td>\n",
       "      <td>1.000000</td>\n",
       "    </tr>\n",
       "    <tr>\n",
       "      <th>max</th>\n",
       "      <td>1088.000000</td>\n",
       "      <td>291476.000000</td>\n",
       "      <td>NaN</td>\n",
       "      <td>7.530000e+17</td>\n",
       "      <td>3.576069e+08</td>\n",
       "      <td>169526.000000</td>\n",
       "      <td>-73.880775</td>\n",
       "      <td>40.777377</td>\n",
       "      <td>1.000000</td>\n",
       "    </tr>\n",
       "  </tbody>\n",
       "</table>\n",
       "</div>"
      ],
      "text/plain": [
       "                id  favoriteCount  replyToSID          id.1    replyToUID  \\\n",
       "count  1089.000000    1089.000000         0.0  1.089000e+03  3.000000e+00   \n",
       "mean    544.000000   15689.673095         NaN  7.229394e+17  1.468150e+08   \n",
       "std     314.511526   12401.107292         NaN  1.811442e+16  1.870245e+08   \n",
       "min       0.000000    2304.000000         NaN  6.760000e+17  7.592510e+05   \n",
       "25%     272.000000    9248.000000         NaN  7.070000e+17  4.141904e+07   \n",
       "50%     544.000000   13563.000000         NaN  7.240000e+17  8.207883e+07   \n",
       "75%     816.000000   19275.000000         NaN  7.380000e+17  2.198429e+08   \n",
       "max    1088.000000  291476.000000         NaN  7.530000e+17  3.576069e+08   \n",
       "\n",
       "        retweetCount  longitude   latitude        label  \n",
       "count    1089.000000   2.000000   2.000000  1089.000000  \n",
       "mean     5425.376492 -73.883040  40.773742     0.136823  \n",
       "std      6464.072195   0.003203   0.005141     0.991051  \n",
       "min       713.000000 -73.885305  40.770107    -1.000000  \n",
       "25%      2889.000000 -73.884172  40.771924    -1.000000  \n",
       "50%      4412.000000 -73.883040  40.773742     1.000000  \n",
       "75%      6475.000000 -73.881907  40.775559     1.000000  \n",
       "max    169526.000000 -73.880775  40.777377     1.000000  "
      ]
     },
     "execution_count": 5,
     "metadata": {},
     "output_type": "execute_result"
    }
   ],
   "source": [
    "data.describe()"
   ]
  },
  {
   "cell_type": "code",
   "execution_count": 6,
   "metadata": {},
   "outputs": [
    {
     "data": {
      "text/html": [
       "<div>\n",
       "<style scoped>\n",
       "    .dataframe tbody tr th:only-of-type {\n",
       "        vertical-align: middle;\n",
       "    }\n",
       "\n",
       "    .dataframe tbody tr th {\n",
       "        vertical-align: top;\n",
       "    }\n",
       "\n",
       "    .dataframe thead th {\n",
       "        text-align: right;\n",
       "    }\n",
       "</style>\n",
       "<table border=\"1\" class=\"dataframe\">\n",
       "  <thead>\n",
       "    <tr style=\"text-align: right;\">\n",
       "      <th></th>\n",
       "      <th>text</th>\n",
       "      <th>favoriteCount</th>\n",
       "      <th>created</th>\n",
       "      <th>retweetCount</th>\n",
       "      <th>label</th>\n",
       "    </tr>\n",
       "  </thead>\n",
       "  <tbody>\n",
       "    <tr>\n",
       "      <th>0</th>\n",
       "      <td>Senior United States District Judge Robert E. ...</td>\n",
       "      <td>14207</td>\n",
       "      <td>7/12/2016 0:56</td>\n",
       "      <td>5256</td>\n",
       "      <td>-1</td>\n",
       "    </tr>\n",
       "    <tr>\n",
       "      <th>1</th>\n",
       "      <td>Speech on Veterans' Reform:  https://t.co/XB7R...</td>\n",
       "      <td>9666</td>\n",
       "      <td>7/11/2016 22:18</td>\n",
       "      <td>3432</td>\n",
       "      <td>-1</td>\n",
       "    </tr>\n",
       "    <tr>\n",
       "      <th>2</th>\n",
       "      <td>Great poll- Florida! Thank you! https://t.co/4...</td>\n",
       "      <td>25531</td>\n",
       "      <td>7/11/2016 21:40</td>\n",
       "      <td>8810</td>\n",
       "      <td>-1</td>\n",
       "    </tr>\n",
       "    <tr>\n",
       "      <th>3</th>\n",
       "      <td>Thoughts and prayers with the victims; and the...</td>\n",
       "      <td>28850</td>\n",
       "      <td>7/11/2016 19:51</td>\n",
       "      <td>9112</td>\n",
       "      <td>-1</td>\n",
       "    </tr>\n",
       "    <tr>\n",
       "      <th>4</th>\n",
       "      <td>Join me in Westfield; Indiana- tomorrow night ...</td>\n",
       "      <td>12567</td>\n",
       "      <td>7/11/2016 11:57</td>\n",
       "      <td>4144</td>\n",
       "      <td>-1</td>\n",
       "    </tr>\n",
       "    <tr>\n",
       "      <th>5</th>\n",
       "      <td>I heard that the underachieving John King of @...</td>\n",
       "      <td>22978</td>\n",
       "      <td>7/10/2016 18:58</td>\n",
       "      <td>6564</td>\n",
       "      <td>1</td>\n",
       "    </tr>\n",
       "    <tr>\n",
       "      <th>6</th>\n",
       "      <td>The media is so dishonest. If I make a stateme...</td>\n",
       "      <td>44600</td>\n",
       "      <td>7/10/2016 18:42</td>\n",
       "      <td>14520</td>\n",
       "      <td>1</td>\n",
       "    </tr>\n",
       "    <tr>\n",
       "      <th>7</th>\n",
       "      <td>President Obama thinks the nation is not as di...</td>\n",
       "      <td>35167</td>\n",
       "      <td>7/10/2016 18:27</td>\n",
       "      <td>11975</td>\n",
       "      <td>1</td>\n",
       "    </tr>\n",
       "    <tr>\n",
       "      <th>8</th>\n",
       "      <td>Look what is happening to our country under th...</td>\n",
       "      <td>55495</td>\n",
       "      <td>7/10/2016 12:02</td>\n",
       "      <td>19030</td>\n",
       "      <td>1</td>\n",
       "    </tr>\n",
       "    <tr>\n",
       "      <th>9</th>\n",
       "      <td>New poll - thank you! #Trump2016  https://t.co...</td>\n",
       "      <td>24040</td>\n",
       "      <td>7/9/2016 21:22</td>\n",
       "      <td>9147</td>\n",
       "      <td>-1</td>\n",
       "    </tr>\n",
       "  </tbody>\n",
       "</table>\n",
       "</div>"
      ],
      "text/plain": [
       "                                                text  favoriteCount  \\\n",
       "0  Senior United States District Judge Robert E. ...          14207   \n",
       "1  Speech on Veterans' Reform:  https://t.co/XB7R...           9666   \n",
       "2  Great poll- Florida! Thank you! https://t.co/4...          25531   \n",
       "3  Thoughts and prayers with the victims; and the...          28850   \n",
       "4  Join me in Westfield; Indiana- tomorrow night ...          12567   \n",
       "5  I heard that the underachieving John King of @...          22978   \n",
       "6  The media is so dishonest. If I make a stateme...          44600   \n",
       "7  President Obama thinks the nation is not as di...          35167   \n",
       "8  Look what is happening to our country under th...          55495   \n",
       "9  New poll - thank you! #Trump2016  https://t.co...          24040   \n",
       "\n",
       "           created  retweetCount  label  \n",
       "0   7/12/2016 0:56          5256     -1  \n",
       "1  7/11/2016 22:18          3432     -1  \n",
       "2  7/11/2016 21:40          8810     -1  \n",
       "3  7/11/2016 19:51          9112     -1  \n",
       "4  7/11/2016 11:57          4144     -1  \n",
       "5  7/10/2016 18:58          6564      1  \n",
       "6  7/10/2016 18:42         14520      1  \n",
       "7  7/10/2016 18:27         11975      1  \n",
       "8  7/10/2016 12:02         19030      1  \n",
       "9   7/9/2016 21:22          9147     -1  "
      ]
     },
     "execution_count": 6,
     "metadata": {},
     "output_type": "execute_result"
    }
   ],
   "source": [
    "#Subset data to include only features we may care about\n",
    "mydata = data[['text','favoriteCount', 'created', 'retweetCount', 'label']]\n",
    "mydata.head(10)"
   ]
  },
  {
   "cell_type": "code",
   "execution_count": 7,
   "metadata": {},
   "outputs": [],
   "source": [
    "#Create columns of hour tweet was created, depending on whether it was trump or not\n",
    "hourcolY = pd.to_datetime(mydata[mydata.label ==1].created)\n",
    "hourcolN = pd.to_datetime(mydata[mydata.label ==-1].created)"
   ]
  },
  {
   "cell_type": "code",
   "execution_count": 8,
   "metadata": {},
   "outputs": [
    {
     "data": {
      "text/plain": [
       "<matplotlib.axes._subplots.AxesSubplot at 0x19ee640e390>"
      ]
     },
     "execution_count": 8,
     "metadata": {},
     "output_type": "execute_result"
    },
    {
     "data": {
      "image/png": "[encoded data removed]",
      "text/plain": [
       "<Figure size 432x288 with 1 Axes>"
      ]
     },
     "metadata": {
      "needs_background": "light"
     },
     "output_type": "display_data"
    }
   ],
   "source": [
    "#Create histogram of hour of creation for Trump Tweets\n",
    "sns.distplot(hourcolY.dt.hour, bins = 24, axlabel = \"Hour Created for Trump Tweets\")"
   ]
  },
  {
   "cell_type": "code",
   "execution_count": 9,
   "metadata": {},
   "outputs": [
    {
     "data": {
      "text/plain": [
       "<matplotlib.axes._subplots.AxesSubplot at 0x19eea588940>"
      ]
     },
     "execution_count": 9,
     "metadata": {},
     "output_type": "execute_result"
    },
    {
     "data": {
      "image/png": "[encoded data removed]",
      "text/plain": [
       "<Figure size 432x288 with 1 Axes>"
      ]
     },
     "metadata": {
      "needs_background": "light"
     },
     "output_type": "display_data"
    }
   ],
   "source": [
    "#Create histogram of hour of creation for Non-Trump Tweets\n",
    "sns.distplot(hourcolN.dt.hour, bins = 24, axlabel = \"Hour Created for Non-Trump Tweets\")"
   ]
  },
  {
   "cell_type": "code",
   "execution_count": 10,
   "metadata": {},
   "outputs": [
    {
     "data": {
      "text/plain": [
       "0.5684113865932048"
      ]
     },
     "execution_count": 10,
     "metadata": {},
     "output_type": "execute_result"
    }
   ],
   "source": [
    "#Find proportion of Trump Tweets\n",
    "mydata[mydata.label == 1]['text'].count()/mydata['text'].count()"
   ]
  },
  {
   "cell_type": "markdown",
   "metadata": {},
   "source": [
    "# Begin NLP"
   ]
  },
  {
   "cell_type": "markdown",
   "metadata": {},
   "source": [
    "## Define helper functions"
   ]
  },
  {
   "cell_type": "code",
   "execution_count": 11,
   "metadata": {},
   "outputs": [],
   "source": [
    "#Input: dataframe (df) and text column (col)\n",
    "#Output: New dataframe (df_new) \n",
    "#Purpose: Adds 3 columns indicating whether tweet was created in one of 3 time periods\n",
    "def binned_time_of_day(df, col):\n",
    "    df_new = df.copy()\n",
    "    df_new['hour_0_8'] = np.where(((pd.to_datetime(df_new[col]).dt.hour >= 0) &\n",
    "                                    (pd.to_datetime(df_new[col]).dt.hour < 8)),\n",
    "                                    1, 0)\n",
    "    df_new['hour_8_16'] = np.where(((pd.to_datetime(df_new[col]).dt.hour >= 8) &\n",
    "                                    (pd.to_datetime(df_new[col]).dt.hour < 16)),\n",
    "                                    1, 0)\n",
    "    df_new['hour_16_0'] = np.where(((pd.to_datetime(df_new[col]).dt.hour >= 16) &\n",
    "                                    (pd.to_datetime(df_new[col]).dt.hour < 24)),\n",
    "                                    1, 0)\n",
    "    return df_new\n"
   ]
  },
  {
   "cell_type": "code",
   "execution_count": 12,
   "metadata": {},
   "outputs": [],
   "source": [
    "#Input: dataframe (df) and text column (col)\n",
    "#Output: New dataframe (df_new) \n",
    "#Purpose: Adds 7 columns indicating whether tweet was created in one of 7 days of week\n",
    "def day_of_week(df, col):\n",
    "    day_dict = {'Sunday': 0, 'Monday': 1, 'Tuesday': 2, 'Wednesday': 3,\n",
    "                   'Thursday': 4, 'Friday': 5, 'Saturday': 6}\n",
    "    df_new = df.copy()\n",
    "    df_new['day_of_week'] = pd.to_datetime(df_new[col]).dt.weekday\n",
    "    \n",
    "    for w in day_dict.keys():\n",
    "        fun = lambda d: 1 if d == day_dict[w] else 0\n",
    "        df_new[w] = df_new['day_of_week'].apply(fun)\n",
    "    \n",
    "    return df_new\n"
   ]
  },
  {
   "cell_type": "code",
   "execution_count": 13,
   "metadata": {},
   "outputs": [],
   "source": [
    "#Input: dataframe (df) and text column (col)\n",
    "#Output: New dataframe (df_new) \n",
    "#Purpose: Adds 1 column giving tweet length\n",
    "def tweet_length(df, col):\n",
    "    df_new = df.copy()\n",
    "    df_new['tweet_length'] = df_new[col].str.len()\n",
    "    \n",
    "    return df_new\n"
   ]
  },
  {
   "cell_type": "code",
   "execution_count": 14,
   "metadata": {},
   "outputs": [],
   "source": [
    "#Input: dataframe (df) and text column (col)\n",
    "#Output: New dataframe (df_new) \n",
    "#Purpose: Adds 1 column for each punctuation indicating # of times punctuation appears in tweet\n",
    "def punctuation(df, col):\n",
    "    punct_dict = {'commas': ',', 'semicolons': ';', 'exclamations': '!',\n",
    "                  'periods': '\\. ', 'questions': '\\?', 'quotes': '\"',\n",
    "                  'dollars': '\\$', 'percents': '%'}\n",
    "    df_new = df.copy()\n",
    "    for s in punct_dict.keys():\n",
    "        df_new[s] = df_new[col].str.count(punct_dict.get(s))\n",
    "        \n",
    "    return df_new\n",
    "\n",
    "#TO DO: Figure out why this doesn't work with: 'elipses': '...'"
   ]
  },
  {
   "cell_type": "code",
   "execution_count": 15,
   "metadata": {},
   "outputs": [],
   "source": [
    "#Input: dataframe (df) and text column (col)\n",
    "#Output: New dataframe (df_new) \n",
    "#Purpose: Adds 1 column indicating whether trump quoted someone else's tweet in his tweet\n",
    "def quoted_retweet(df, col):\n",
    "    fun = lambda s: 0 if re.match('^\"@', s) is None else 1\n",
    "    df_new = df.copy()\n",
    "    df_new['quoted_rt'] = df_new[col].apply(fun)\n",
    "    \n",
    "    return df_new\n"
   ]
  },
  {
   "cell_type": "code",
   "execution_count": 16,
   "metadata": {},
   "outputs": [],
   "source": [
    "#Input: dataframe (df) and text column (col)\n",
    "#Output: New dataframe (df_new) \n",
    "#Purpose: Adds 1 column indicating how many ALL CAPS words were used\n",
    "def all_caps(df, col):\n",
    "    fun = lambda s: len(re.findall(r'\\b[A-Z]{2,}\\b', s))\n",
    "    df_new = df.copy()\n",
    "    df_new['all_caps'] = df_new[col].apply(fun)\n",
    "    \n",
    "    return df_new\n"
   ]
  },
  {
   "cell_type": "code",
   "execution_count": 17,
   "metadata": {},
   "outputs": [],
   "source": [
    "def tweet_tokenize(df, col):\n",
    "    gettokens = TweetTokenizer()\n",
    "    fun = lambda s: ' '.join(gettokens.tokenize(s))\n",
    "    df_new = df.copy()\n",
    "    df_new['tokenized'] = df_new[col].apply(fun)\n",
    "    \n",
    "    return df_new\n"
   ]
  },
  {
   "cell_type": "code",
   "execution_count": 18,
   "metadata": {},
   "outputs": [],
   "source": [
    "def mention_hashtag_url(df, col):\n",
    "    df_new = tweet_tokenize(df, col)\n",
    "    df_new['self_mentions'] = df_new['tokenized'].apply(lambda s: s.count('@realDonaldTrump'))\n",
    "    df_new['mentions'] = df_new['tokenized'].apply(lambda s: len(re.findall(r'@\\w+', s))) - df_new['self_mentions']\n",
    "    df_new['hashtags'] = df_new['tokenized'].apply(lambda s: len(re.findall(r'#\\w+', s)))\n",
    "    df_new['urls'] = df_new['tokenized'].apply(lambda s: s.count('https'))\n",
    "    \n",
    "    return df_new\n"
   ]
  },
  {
   "cell_type": "markdown",
   "metadata": {},
   "source": [
    "# Update dataset with new columns"
   ]
  },
  {
   "cell_type": "code",
   "execution_count": 19,
   "metadata": {},
   "outputs": [],
   "source": [
    "#Add Time Periods\n",
    "mydata = binned_time_of_day(mydata, 'created')"
   ]
  },
  {
   "cell_type": "code",
   "execution_count": 20,
   "metadata": {},
   "outputs": [],
   "source": [
    "#Add Day of Week\n",
    "mydata = day_of_week(mydata, 'created')"
   ]
  },
  {
   "cell_type": "code",
   "execution_count": 21,
   "metadata": {},
   "outputs": [],
   "source": [
    "#Add Tweet length\n",
    "mydata = tweet_length(mydata, 'text')"
   ]
  },
  {
   "cell_type": "code",
   "execution_count": 22,
   "metadata": {},
   "outputs": [],
   "source": [
    "#Add Punctuation columns\n",
    "mydata = punctuation(mydata, 'text')"
   ]
  },
  {
   "cell_type": "code",
   "execution_count": 23,
   "metadata": {},
   "outputs": [],
   "source": [
    "#Add quoted retweet indicator column\n",
    "mydata = quoted_retweet(mydata, 'text')"
   ]
  },
  {
   "cell_type": "code",
   "execution_count": 24,
   "metadata": {},
   "outputs": [],
   "source": [
    "#Add quoted retweet indicator column\n",
    "mydata = all_caps(mydata, 'text')"
   ]
  },
  {
   "cell_type": "code",
   "execution_count": 25,
   "metadata": {},
   "outputs": [],
   "source": [
    "#Add self mentions, other mentions, hashtags, and URL columns\n",
    "mydata = mention_hashtag_url(mydata, 'text')"
   ]
  },
  {
   "cell_type": "code",
   "execution_count": 26,
   "metadata": {},
   "outputs": [
    {
     "data": {
      "text/plain": [
       "Index(['text', 'favoriteCount', 'created', 'retweetCount', 'label', 'hour_0_8',\n",
       "       'hour_8_16', 'hour_16_0', 'day_of_week', 'Sunday', 'Monday', 'Tuesday',\n",
       "       'Wednesday', 'Thursday', 'Friday', 'Saturday', 'tweet_length', 'commas',\n",
       "       'semicolons', 'exclamations', 'periods', 'questions', 'quotes',\n",
       "       'dollars', 'percents', 'quoted_rt', 'all_caps', 'tokenized',\n",
       "       'self_mentions', 'mentions', 'hashtags', 'urls'],\n",
       "      dtype='object')"
      ]
     },
     "execution_count": 26,
     "metadata": {},
     "output_type": "execute_result"
    }
   ],
   "source": [
    "mydata.columns"
   ]
  },
  {
   "cell_type": "code",
   "execution_count": 67,
   "metadata": {},
   "outputs": [
    {
     "data": {
      "text/html": [
       "<div>\n",
       "<style scoped>\n",
       "    .dataframe tbody tr th:only-of-type {\n",
       "        vertical-align: middle;\n",
       "    }\n",
       "\n",
       "    .dataframe tbody tr th {\n",
       "        vertical-align: top;\n",
       "    }\n",
       "\n",
       "    .dataframe thead th {\n",
       "        text-align: right;\n",
       "    }\n",
       "</style>\n",
       "<table border=\"1\" class=\"dataframe\">\n",
       "  <thead>\n",
       "    <tr style=\"text-align: right;\">\n",
       "      <th></th>\n",
       "      <th>text</th>\n",
       "      <th>favoriteCount</th>\n",
       "      <th>created</th>\n",
       "      <th>retweetCount</th>\n",
       "      <th>label</th>\n",
       "      <th>hour_0_8</th>\n",
       "      <th>hour_8_16</th>\n",
       "      <th>hour_16_0</th>\n",
       "      <th>day_of_week</th>\n",
       "      <th>Sunday</th>\n",
       "      <th>...</th>\n",
       "      <th>quotes</th>\n",
       "      <th>dollars</th>\n",
       "      <th>percents</th>\n",
       "      <th>quoted_rt</th>\n",
       "      <th>all_caps</th>\n",
       "      <th>tokenized</th>\n",
       "      <th>self_mentions</th>\n",
       "      <th>mentions</th>\n",
       "      <th>hashtags</th>\n",
       "      <th>urls</th>\n",
       "    </tr>\n",
       "  </thead>\n",
       "  <tbody>\n",
       "    <tr>\n",
       "      <th>0</th>\n",
       "      <td>Senior United States District Judge Robert E. ...</td>\n",
       "      <td>14207</td>\n",
       "      <td>7/12/2016 0:56</td>\n",
       "      <td>5256</td>\n",
       "      <td>-1</td>\n",
       "      <td>1</td>\n",
       "      <td>0</td>\n",
       "      <td>0</td>\n",
       "      <td>1</td>\n",
       "      <td>0</td>\n",
       "      <td>...</td>\n",
       "      <td>0</td>\n",
       "      <td>0</td>\n",
       "      <td>0</td>\n",
       "      <td>0</td>\n",
       "      <td>0</td>\n",
       "      <td>Senior United States District Judge Robert E ....</td>\n",
       "      <td>0</td>\n",
       "      <td>0</td>\n",
       "      <td>0</td>\n",
       "      <td>1</td>\n",
       "    </tr>\n",
       "    <tr>\n",
       "      <th>1</th>\n",
       "      <td>Speech on Veterans' Reform:  https://t.co/XB7R...</td>\n",
       "      <td>9666</td>\n",
       "      <td>7/11/2016 22:18</td>\n",
       "      <td>3432</td>\n",
       "      <td>-1</td>\n",
       "      <td>0</td>\n",
       "      <td>0</td>\n",
       "      <td>1</td>\n",
       "      <td>0</td>\n",
       "      <td>1</td>\n",
       "      <td>...</td>\n",
       "      <td>0</td>\n",
       "      <td>0</td>\n",
       "      <td>0</td>\n",
       "      <td>0</td>\n",
       "      <td>0</td>\n",
       "      <td>Speech on Veterans ' Reform : https://t.co/XB7...</td>\n",
       "      <td>0</td>\n",
       "      <td>0</td>\n",
       "      <td>0</td>\n",
       "      <td>1</td>\n",
       "    </tr>\n",
       "    <tr>\n",
       "      <th>2</th>\n",
       "      <td>Great poll- Florida! Thank you! https://t.co/4...</td>\n",
       "      <td>25531</td>\n",
       "      <td>7/11/2016 21:40</td>\n",
       "      <td>8810</td>\n",
       "      <td>-1</td>\n",
       "      <td>0</td>\n",
       "      <td>0</td>\n",
       "      <td>1</td>\n",
       "      <td>0</td>\n",
       "      <td>1</td>\n",
       "      <td>...</td>\n",
       "      <td>0</td>\n",
       "      <td>0</td>\n",
       "      <td>0</td>\n",
       "      <td>0</td>\n",
       "      <td>0</td>\n",
       "      <td>Great poll - Florida ! Thank you ! https://t.c...</td>\n",
       "      <td>0</td>\n",
       "      <td>0</td>\n",
       "      <td>0</td>\n",
       "      <td>1</td>\n",
       "    </tr>\n",
       "    <tr>\n",
       "      <th>3</th>\n",
       "      <td>Thoughts and prayers with the victims; and the...</td>\n",
       "      <td>28850</td>\n",
       "      <td>7/11/2016 19:51</td>\n",
       "      <td>9112</td>\n",
       "      <td>-1</td>\n",
       "      <td>0</td>\n",
       "      <td>0</td>\n",
       "      <td>1</td>\n",
       "      <td>0</td>\n",
       "      <td>1</td>\n",
       "      <td>...</td>\n",
       "      <td>0</td>\n",
       "      <td>0</td>\n",
       "      <td>0</td>\n",
       "      <td>0</td>\n",
       "      <td>0</td>\n",
       "      <td>Thoughts and prayers with the victims ; and th...</td>\n",
       "      <td>0</td>\n",
       "      <td>0</td>\n",
       "      <td>0</td>\n",
       "      <td>0</td>\n",
       "    </tr>\n",
       "    <tr>\n",
       "      <th>4</th>\n",
       "      <td>Join me in Westfield; Indiana- tomorrow night ...</td>\n",
       "      <td>12567</td>\n",
       "      <td>7/11/2016 11:57</td>\n",
       "      <td>4144</td>\n",
       "      <td>-1</td>\n",
       "      <td>0</td>\n",
       "      <td>1</td>\n",
       "      <td>0</td>\n",
       "      <td>0</td>\n",
       "      <td>1</td>\n",
       "      <td>...</td>\n",
       "      <td>0</td>\n",
       "      <td>0</td>\n",
       "      <td>0</td>\n",
       "      <td>0</td>\n",
       "      <td>0</td>\n",
       "      <td>Join me in Westfield ; Indiana - tomorrow nigh...</td>\n",
       "      <td>0</td>\n",
       "      <td>0</td>\n",
       "      <td>1</td>\n",
       "      <td>2</td>\n",
       "    </tr>\n",
       "  </tbody>\n",
       "</table>\n",
       "<p>5 rows × 32 columns</p>\n",
       "</div>"
      ],
      "text/plain": [
       "                                                text  favoriteCount  \\\n",
       "0  Senior United States District Judge Robert E. ...          14207   \n",
       "1  Speech on Veterans' Reform:  https://t.co/XB7R...           9666   \n",
       "2  Great poll- Florida! Thank you! https://t.co/4...          25531   \n",
       "3  Thoughts and prayers with the victims; and the...          28850   \n",
       "4  Join me in Westfield; Indiana- tomorrow night ...          12567   \n",
       "\n",
       "           created  retweetCount  label  hour_0_8  hour_8_16  hour_16_0  \\\n",
       "0   7/12/2016 0:56          5256     -1         1          0          0   \n",
       "1  7/11/2016 22:18          3432     -1         0          0          1   \n",
       "2  7/11/2016 21:40          8810     -1         0          0          1   \n",
       "3  7/11/2016 19:51          9112     -1         0          0          1   \n",
       "4  7/11/2016 11:57          4144     -1         0          1          0   \n",
       "\n",
       "   day_of_week  Sunday  ...   quotes  dollars  percents  quoted_rt  all_caps  \\\n",
       "0            1       0  ...        0        0         0          0         0   \n",
       "1            0       1  ...        0        0         0          0         0   \n",
       "2            0       1  ...        0        0         0          0         0   \n",
       "3            0       1  ...        0        0         0          0         0   \n",
       "4            0       1  ...        0        0         0          0         0   \n",
       "\n",
       "                                           tokenized  self_mentions  mentions  \\\n",
       "0  Senior United States District Judge Robert E ....              0         0   \n",
       "1  Speech on Veterans ' Reform : https://t.co/XB7...              0         0   \n",
       "2  Great poll - Florida ! Thank you ! https://t.c...              0         0   \n",
       "3  Thoughts and prayers with the victims ; and th...              0         0   \n",
       "4  Join me in Westfield ; Indiana - tomorrow nigh...              0         0   \n",
       "\n",
       "   hashtags  urls  \n",
       "0         0     1  \n",
       "1         0     1  \n",
       "2         0     1  \n",
       "3         0     0  \n",
       "4         1     2  \n",
       "\n",
       "[5 rows x 32 columns]"
      ]
     },
     "execution_count": 67,
     "metadata": {},
     "output_type": "execute_result"
    }
   ],
   "source": [
    "#mydata[['label','day_of_week']].groupby(['label']).agg(['mean'])\n",
    "mydata.head()"
   ]
  },
  {
   "cell_type": "code",
   "execution_count": 28,
   "metadata": {},
   "outputs": [
    {
     "data": {
      "text/plain": [
       "<matplotlib.axes._subplots.AxesSubplot at 0x19eea6e7e80>"
      ]
     },
     "execution_count": 28,
     "metadata": {},
     "output_type": "execute_result"
    },
    {
     "data": {
      "image/png": "[encoded data removed]",
      "text/plain": [
       "<Figure size 432x288 with 1 Axes>"
      ]
     },
     "metadata": {
      "needs_background": "light"
     },
     "output_type": "display_data"
    }
   ],
   "source": [
    "#Plot day of week for Trump\n",
    "sns.distplot(mydata[mydata['label'] == 1]['day_of_week'], bins = 7, axlabel = \"Day Created for Trump Tweets\")"
   ]
  },
  {
   "cell_type": "code",
   "execution_count": 29,
   "metadata": {},
   "outputs": [
    {
     "data": {
      "text/plain": [
       "<matplotlib.axes._subplots.AxesSubplot at 0x19eea73d358>"
      ]
     },
     "execution_count": 29,
     "metadata": {},
     "output_type": "execute_result"
    },
    {
     "data": {
      "image/png": "[encoded data removed]",
      "text/plain": [
       "<Figure size 432x288 with 1 Axes>"
      ]
     },
     "metadata": {
      "needs_background": "light"
     },
     "output_type": "display_data"
    }
   ],
   "source": [
    "#Plot day of week for non Trump\n",
    "sns.distplot(mydata[mydata['label'] == -1]['day_of_week'], bins = 7, axlabel = \"Day Created for Non-Trump Tweets\")"
   ]
  },
  {
   "cell_type": "markdown",
   "metadata": {},
   "source": [
    "# Create Classifiers"
   ]
  },
  {
   "cell_type": "markdown",
   "metadata": {},
   "source": [
    "### Create X and y for Training/Testing"
   ]
  },
  {
   "cell_type": "code",
   "execution_count": 30,
   "metadata": {},
   "outputs": [],
   "source": [
    "#Create desired feature vector\n",
    "my_features = ['hour_0_8', 'hour_8_16', 'hour_16_0', 'day_of_week', 'tweet_length', 'commas',\n",
    "       'semicolons', 'exclamations', 'periods', 'questions', 'quotes',\n",
    "       'dollars', 'percents', 'quoted_rt', 'all_caps', 'self_mentions', 'mentions', 'hashtags', 'urls', 'Sunday',\n",
    "              'Monday', 'Tuesday', 'Wednesday', 'Thursday', 'Friday', 'Saturday']\n",
    "\n",
    "X = mydata[my_features]\n",
    "y = mydata.label"
   ]
  },
  {
   "cell_type": "code",
   "execution_count": 32,
   "metadata": {},
   "outputs": [],
   "source": [
    "X_tr, X_test, y_tr, y_test = train_test_split(X, y, test_size = 0.10, random_state=1)"
   ]
  },
  {
   "cell_type": "markdown",
   "metadata": {},
   "source": [
    "### Logistic Regression"
   ]
  },
  {
   "cell_type": "code",
   "execution_count": 33,
   "metadata": {},
   "outputs": [
    {
     "name": "stderr",
     "output_type": "stream",
     "text": [
      "c:\\python37\\lib\\site-packages\\sklearn\\linear_model\\logistic.py:432: FutureWarning: Default solver will be changed to 'lbfgs' in 0.22. Specify a solver to silence this warning.\n",
      "  FutureWarning)\n"
     ]
    },
    {
     "data": {
      "text/plain": [
       "LogisticRegression(C=1.0, class_weight=None, dual=False, fit_intercept=True,\n",
       "          intercept_scaling=1, max_iter=100, multi_class='warn',\n",
       "          n_jobs=None, penalty='l2', random_state=None, solver='warn',\n",
       "          tol=0.0001, verbose=0, warm_start=False)"
      ]
     },
     "execution_count": 33,
     "metadata": {},
     "output_type": "execute_result"
    }
   ],
   "source": [
    "#Run logistic regression\n",
    "logreg1 = LogisticRegression()\n",
    "\n",
    "logreg1.fit(X, y)"
   ]
  },
  {
   "cell_type": "code",
   "execution_count": 34,
   "metadata": {},
   "outputs": [],
   "source": [
    "#Make make predictions\n",
    "y_pred = logreg1.predict(X)"
   ]
  },
  {
   "cell_type": "code",
   "execution_count": 35,
   "metadata": {},
   "outputs": [
    {
     "name": "stderr",
     "output_type": "stream",
     "text": [
      "c:\\python37\\lib\\site-packages\\sklearn\\linear_model\\logistic.py:432: FutureWarning: Default solver will be changed to 'lbfgs' in 0.22. Specify a solver to silence this warning.\n",
      "  FutureWarning)\n",
      "c:\\python37\\lib\\site-packages\\sklearn\\linear_model\\logistic.py:432: FutureWarning: Default solver will be changed to 'lbfgs' in 0.22. Specify a solver to silence this warning.\n",
      "  FutureWarning)\n",
      "c:\\python37\\lib\\site-packages\\sklearn\\linear_model\\logistic.py:432: FutureWarning: Default solver will be changed to 'lbfgs' in 0.22. Specify a solver to silence this warning.\n",
      "  FutureWarning)\n",
      "c:\\python37\\lib\\site-packages\\sklearn\\linear_model\\logistic.py:432: FutureWarning: Default solver will be changed to 'lbfgs' in 0.22. Specify a solver to silence this warning.\n",
      "  FutureWarning)\n",
      "c:\\python37\\lib\\site-packages\\sklearn\\linear_model\\logistic.py:432: FutureWarning: Default solver will be changed to 'lbfgs' in 0.22. Specify a solver to silence this warning.\n",
      "  FutureWarning)\n",
      "c:\\python37\\lib\\site-packages\\sklearn\\linear_model\\logistic.py:432: FutureWarning: Default solver will be changed to 'lbfgs' in 0.22. Specify a solver to silence this warning.\n",
      "  FutureWarning)\n",
      "c:\\python37\\lib\\site-packages\\sklearn\\linear_model\\logistic.py:432: FutureWarning: Default solver will be changed to 'lbfgs' in 0.22. Specify a solver to silence this warning.\n",
      "  FutureWarning)\n",
      "c:\\python37\\lib\\site-packages\\sklearn\\linear_model\\logistic.py:432: FutureWarning: Default solver will be changed to 'lbfgs' in 0.22. Specify a solver to silence this warning.\n",
      "  FutureWarning)\n",
      "c:\\python37\\lib\\site-packages\\sklearn\\linear_model\\logistic.py:432: FutureWarning: Default solver will be changed to 'lbfgs' in 0.22. Specify a solver to silence this warning.\n",
      "  FutureWarning)\n",
      "c:\\python37\\lib\\site-packages\\sklearn\\linear_model\\logistic.py:432: FutureWarning: Default solver will be changed to 'lbfgs' in 0.22. Specify a solver to silence this warning.\n",
      "  FutureWarning)\n"
     ]
    },
    {
     "data": {
      "text/plain": [
       "0.8778287461773701"
      ]
     },
     "execution_count": 35,
     "metadata": {},
     "output_type": "execute_result"
    }
   ],
   "source": [
    "logreg_score = cross_val_score(logreg1, X, y, cv=10, scoring='accuracy')\n",
    "logreg_score.mean()"
   ]
  },
  {
   "cell_type": "code",
   "execution_count": 36,
   "metadata": {},
   "outputs": [],
   "source": [
    "#confusion = metrics.confusion_matrix(y_test, y_pred)"
   ]
  },
  {
   "cell_type": "code",
   "execution_count": 37,
   "metadata": {},
   "outputs": [],
   "source": [
    "#confusion"
   ]
  },
  {
   "cell_type": "code",
   "execution_count": 38,
   "metadata": {},
   "outputs": [],
   "source": [
    "#accuracy = metrics.accuracy_score(y_test, y_pred)\n",
    "#accuracy"
   ]
  },
  {
   "cell_type": "markdown",
   "metadata": {},
   "source": [
    "### Random Forest"
   ]
  },
  {
   "cell_type": "code",
   "execution_count": 50,
   "metadata": {},
   "outputs": [],
   "source": [
    "#Create choice of hyperparameters\n",
    "depths = [20, 30, 50]\n",
    "featNum = [5, 8, 10, 12]\n",
    "treeNum = [50, 500, 1000]"
   ]
  },
  {
   "cell_type": "code",
   "execution_count": 51,
   "metadata": {},
   "outputs": [
    {
     "name": "stdout",
     "output_type": "stream",
     "text": [
      "The CV score for depths/trees,  20 50  is  0.8961773700305811\n",
      "The CV score for depths/trees,  20 500  is  0.8943510023785255\n",
      "The CV score for depths/trees,  20 1000  is  0.8961773700305811\n",
      "The CV score for depths/trees,  30 50  is  0.8971117906897723\n",
      "The CV score for depths/trees,  30 500  is  0.8943510023785255\n",
      "The CV score for depths/trees,  30 1000  is  0.8943510023785255\n",
      "The CV score for depths/trees,  50 50  is  0.8989381583418282\n",
      "The CV score for depths/trees,  50 500  is  0.89434250764526\n",
      "The CV score for depths/trees,  50 1000  is  0.89434250764526\n"
     ]
    }
   ],
   "source": [
    "rf_scores = []\n",
    "for i in depths:\n",
    "    for t in treeNum:\n",
    "        rf = RandomForestClassifier(max_depth = i,\n",
    "                                   max_features='sqrt',\n",
    "                                    max_leaf_nodes=None,\n",
    "                                    min_samples_leaf=2,\n",
    "                                    min_samples_split=2,\n",
    "                                    n_estimators=t)\n",
    "        scores = cross_val_score(rf, X, y, cv = 10, scoring = 'accuracy')\n",
    "        rf_scores.append(scores.mean())\n",
    "        print('The CV score for depths/trees, ', i, t, ' is ', scores.mean())"
   ]
  },
  {
   "cell_type": "markdown",
   "metadata": {},
   "source": [
    "--> For Random Forest, just choose:\n",
    "max_depth = 10\n",
    "max_features = 'sqrt'\n",
    "n_estimators = 100"
   ]
  },
  {
   "cell_type": "code",
   "execution_count": 56,
   "metadata": {},
   "outputs": [
    {
     "data": {
      "text/plain": [
       "RandomForestClassifier(bootstrap=True, class_weight=None, criterion='gini',\n",
       "            max_depth=15, max_features='sqrt', max_leaf_nodes=None,\n",
       "            min_impurity_decrease=0.0, min_impurity_split=None,\n",
       "            min_samples_leaf=2, min_samples_split=2,\n",
       "            min_weight_fraction_leaf=0.0, n_estimators=100, n_jobs=None,\n",
       "            oob_score=False, random_state=None, verbose=0,\n",
       "            warm_start=False)"
      ]
     },
     "execution_count": 56,
     "metadata": {},
     "output_type": "execute_result"
    }
   ],
   "source": [
    "#Train final Random Forest Model\n",
    "rf1 = RandomForestClassifier(max_depth = 15,\n",
    "                                   max_features='sqrt',\n",
    "                                    max_leaf_nodes=None,\n",
    "                                    min_samples_leaf=2,\n",
    "                                    min_samples_split=2,\n",
    "                                    n_estimators=100)\n",
    "rf1.fit(X, y)"
   ]
  },
  {
   "cell_type": "markdown",
   "metadata": {},
   "source": [
    "### Prepare Classifiers for Submission"
   ]
  },
  {
   "cell_type": "code",
   "execution_count": 60,
   "metadata": {},
   "outputs": [],
   "source": [
    "testdata0 = pd.read_csv('C:/Documents/CS5780Final/Given Test/test.csv')"
   ]
  },
  {
   "cell_type": "code",
   "execution_count": 61,
   "metadata": {},
   "outputs": [],
   "source": [
    "#Add Time Periods\n",
    "testdata = binned_time_of_day(testdata0, 'created')\n",
    "\n",
    "#Add Day of Week\n",
    "testdata = day_of_week(testdata, 'created')\n",
    "\n",
    "#Add Tweet length\n",
    "testdata = tweet_length(testdata, 'text')\n",
    "\n",
    "#Add Tweet length\n",
    "testdata = punctuation(testdata, 'text')\n",
    "\n",
    "#Add Tweet length\n",
    "testdata = quoted_retweet(testdata, 'text')\n",
    "\n",
    "#Add Tweet length\n",
    "testdata = all_caps(testdata, 'text')\n",
    "\n",
    "#Add Tweet length\n",
    "testdata = tweet_tokenize(testdata, 'text')\n",
    "\n",
    "#Add Tweet length\n",
    "testdata = mention_hashtag_url(testdata, 'text')"
   ]
  },
  {
   "cell_type": "code",
   "execution_count": 62,
   "metadata": {},
   "outputs": [],
   "source": [
    "X_test_final = testdata[my_features]"
   ]
  },
  {
   "cell_type": "code",
   "execution_count": 55,
   "metadata": {},
   "outputs": [],
   "source": [
    "#Make predictions on test set for Logistic Regression\n",
    "log_test_pred = logreg1.predict(X_test_final)\n",
    "#log_test_pred"
   ]
  },
  {
   "cell_type": "code",
   "execution_count": 63,
   "metadata": {},
   "outputs": [],
   "source": [
    "#Make predictions on test set for Random Forest\n",
    "rf_test_pred = rf1.predict(X_test_final)"
   ]
  },
  {
   "cell_type": "code",
   "execution_count": 64,
   "metadata": {},
   "outputs": [],
   "source": [
    "testdata['Label'] = rf_test_pred\n",
    "testdata['ID'] = testdata['id']\n",
    "#testdata.rename({'id': 'ID'}, inplace=True)"
   ]
  },
  {
   "cell_type": "markdown",
   "metadata": {},
   "source": [
    "### Check and Submit"
   ]
  },
  {
   "cell_type": "code",
   "execution_count": 65,
   "metadata": {},
   "outputs": [
    {
     "data": {
      "text/html": [
       "<div>\n",
       "<style scoped>\n",
       "    .dataframe tbody tr th:only-of-type {\n",
       "        vertical-align: middle;\n",
       "    }\n",
       "\n",
       "    .dataframe tbody tr th {\n",
       "        vertical-align: top;\n",
       "    }\n",
       "\n",
       "    .dataframe thead th {\n",
       "        text-align: right;\n",
       "    }\n",
       "</style>\n",
       "<table border=\"1\" class=\"dataframe\">\n",
       "  <thead>\n",
       "    <tr style=\"text-align: right;\">\n",
       "      <th></th>\n",
       "      <th>id</th>\n",
       "      <th>text</th>\n",
       "      <th>favorited</th>\n",
       "      <th>favoriteCount</th>\n",
       "      <th>replyToSN</th>\n",
       "      <th>created</th>\n",
       "      <th>truncated</th>\n",
       "      <th>replyToSID</th>\n",
       "      <th>id.1</th>\n",
       "      <th>replyToUID</th>\n",
       "      <th>...</th>\n",
       "      <th>dollars</th>\n",
       "      <th>percents</th>\n",
       "      <th>quoted_rt</th>\n",
       "      <th>all_caps</th>\n",
       "      <th>tokenized</th>\n",
       "      <th>self_mentions</th>\n",
       "      <th>mentions</th>\n",
       "      <th>hashtags</th>\n",
       "      <th>urls</th>\n",
       "      <th>Label</th>\n",
       "    </tr>\n",
       "  </thead>\n",
       "  <tbody>\n",
       "    <tr>\n",
       "      <th>0</th>\n",
       "      <td>0</td>\n",
       "      <td>My economic policy speech will be carried live...</td>\n",
       "      <td>False</td>\n",
       "      <td>9214</td>\n",
       "      <td>NaN</td>\n",
       "      <td>8/8/2016 15:20</td>\n",
       "      <td>False</td>\n",
       "      <td>NaN</td>\n",
       "      <td>7.630000e+17</td>\n",
       "      <td>NaN</td>\n",
       "      <td>...</td>\n",
       "      <td>0</td>\n",
       "      <td>0</td>\n",
       "      <td>0</td>\n",
       "      <td>0</td>\n",
       "      <td>My economic policy speech will be carried live...</td>\n",
       "      <td>0</td>\n",
       "      <td>0</td>\n",
       "      <td>0</td>\n",
       "      <td>0</td>\n",
       "      <td>1</td>\n",
       "    </tr>\n",
       "    <tr>\n",
       "      <th>1</th>\n",
       "      <td>1</td>\n",
       "      <td>Join me in Fayetteville; North Carolina tomorr...</td>\n",
       "      <td>False</td>\n",
       "      <td>6981</td>\n",
       "      <td>NaN</td>\n",
       "      <td>8/8/2016 13:28</td>\n",
       "      <td>False</td>\n",
       "      <td>NaN</td>\n",
       "      <td>7.630000e+17</td>\n",
       "      <td>NaN</td>\n",
       "      <td>...</td>\n",
       "      <td>0</td>\n",
       "      <td>0</td>\n",
       "      <td>0</td>\n",
       "      <td>0</td>\n",
       "      <td>Join me in Fayetteville ; North Carolina tomor...</td>\n",
       "      <td>0</td>\n",
       "      <td>0</td>\n",
       "      <td>0</td>\n",
       "      <td>1</td>\n",
       "      <td>-1</td>\n",
       "    </tr>\n",
       "    <tr>\n",
       "      <th>2</th>\n",
       "      <td>2</td>\n",
       "      <td>#ICYMI: \"Will Media Apologize to Trump?\" https...</td>\n",
       "      <td>False</td>\n",
       "      <td>15724</td>\n",
       "      <td>NaN</td>\n",
       "      <td>8/8/2016 0:05</td>\n",
       "      <td>False</td>\n",
       "      <td>NaN</td>\n",
       "      <td>7.620000e+17</td>\n",
       "      <td>NaN</td>\n",
       "      <td>...</td>\n",
       "      <td>0</td>\n",
       "      <td>0</td>\n",
       "      <td>0</td>\n",
       "      <td>1</td>\n",
       "      <td>#ICYMI : \" Will Media Apologize to Trump ? \" h...</td>\n",
       "      <td>0</td>\n",
       "      <td>0</td>\n",
       "      <td>1</td>\n",
       "      <td>1</td>\n",
       "      <td>-1</td>\n",
       "    </tr>\n",
       "    <tr>\n",
       "      <th>3</th>\n",
       "      <td>3</td>\n",
       "      <td>Michael Morell; the lightweight former Acting ...</td>\n",
       "      <td>False</td>\n",
       "      <td>19837</td>\n",
       "      <td>NaN</td>\n",
       "      <td>8/7/2016 23:09</td>\n",
       "      <td>False</td>\n",
       "      <td>NaN</td>\n",
       "      <td>7.620000e+17</td>\n",
       "      <td>NaN</td>\n",
       "      <td>...</td>\n",
       "      <td>0</td>\n",
       "      <td>0</td>\n",
       "      <td>0</td>\n",
       "      <td>0</td>\n",
       "      <td>Michael Morell ; the lightweight former Acting...</td>\n",
       "      <td>0</td>\n",
       "      <td>0</td>\n",
       "      <td>0</td>\n",
       "      <td>0</td>\n",
       "      <td>1</td>\n",
       "    </tr>\n",
       "    <tr>\n",
       "      <th>4</th>\n",
       "      <td>4</td>\n",
       "      <td>The media is going crazy. They totally distort...</td>\n",
       "      <td>False</td>\n",
       "      <td>34051</td>\n",
       "      <td>NaN</td>\n",
       "      <td>8/7/2016 21:31</td>\n",
       "      <td>False</td>\n",
       "      <td>NaN</td>\n",
       "      <td>7.620000e+17</td>\n",
       "      <td>NaN</td>\n",
       "      <td>...</td>\n",
       "      <td>0</td>\n",
       "      <td>0</td>\n",
       "      <td>0</td>\n",
       "      <td>0</td>\n",
       "      <td>The media is going crazy . They totally distor...</td>\n",
       "      <td>0</td>\n",
       "      <td>0</td>\n",
       "      <td>0</td>\n",
       "      <td>0</td>\n",
       "      <td>1</td>\n",
       "    </tr>\n",
       "  </tbody>\n",
       "</table>\n",
       "<p>5 rows × 44 columns</p>\n",
       "</div>"
      ],
      "text/plain": [
       "   id                                               text  favorited  \\\n",
       "0   0  My economic policy speech will be carried live...      False   \n",
       "1   1  Join me in Fayetteville; North Carolina tomorr...      False   \n",
       "2   2  #ICYMI: \"Will Media Apologize to Trump?\" https...      False   \n",
       "3   3  Michael Morell; the lightweight former Acting ...      False   \n",
       "4   4  The media is going crazy. They totally distort...      False   \n",
       "\n",
       "   favoriteCount  replyToSN         created  truncated  replyToSID  \\\n",
       "0           9214        NaN  8/8/2016 15:20      False         NaN   \n",
       "1           6981        NaN  8/8/2016 13:28      False         NaN   \n",
       "2          15724        NaN   8/8/2016 0:05      False         NaN   \n",
       "3          19837        NaN  8/7/2016 23:09      False         NaN   \n",
       "4          34051        NaN  8/7/2016 21:31      False         NaN   \n",
       "\n",
       "           id.1  replyToUID  ...   dollars  percents  quoted_rt  all_caps  \\\n",
       "0  7.630000e+17         NaN  ...         0         0          0         0   \n",
       "1  7.630000e+17         NaN  ...         0         0          0         0   \n",
       "2  7.620000e+17         NaN  ...         0         0          0         1   \n",
       "3  7.620000e+17         NaN  ...         0         0          0         0   \n",
       "4  7.620000e+17         NaN  ...         0         0          0         0   \n",
       "\n",
       "                                           tokenized  self_mentions  mentions  \\\n",
       "0  My economic policy speech will be carried live...              0         0   \n",
       "1  Join me in Fayetteville ; North Carolina tomor...              0         0   \n",
       "2  #ICYMI : \" Will Media Apologize to Trump ? \" h...              0         0   \n",
       "3  Michael Morell ; the lightweight former Acting...              0         0   \n",
       "4  The media is going crazy . They totally distor...              0         0   \n",
       "\n",
       "   hashtags  urls  Label  \n",
       "0         0     0      1  \n",
       "1         0     1     -1  \n",
       "2         1     1     -1  \n",
       "3         0     0      1  \n",
       "4         0     0      1  \n",
       "\n",
       "[5 rows x 44 columns]"
      ]
     },
     "execution_count": 65,
     "metadata": {},
     "output_type": "execute_result"
    }
   ],
   "source": [
    "testdata.head()"
   ]
  },
  {
   "cell_type": "code",
   "execution_count": 66,
   "metadata": {},
   "outputs": [],
   "source": [
    "testdata.to_csv(\"C:/Documents/CS5780Final/test.csv\", columns = ['ID','Label'], sep=\",\", header=True, index=False)"
   ]
  },
  {
   "cell_type": "markdown",
   "metadata": {},
   "source": [
    "## Citations"
   ]
  },
  {
   "cell_type": "markdown",
   "metadata": {},
   "source": [
    "### Packages"
   ]
  },
  {
   "cell_type": "markdown",
   "metadata": {},
   "source": [
    "Sklearn: http://jmlr.csail.mit.edu/papers/v12/pedregosa11a.html\n",
    "Pandas, Scipy: http://conference.scipy.org/proceedings/scipy2010/mckinney.html\n",
    "Numpy: Travis E, Oliphant. A guide to NumPy, USA: Trelgol Publishing, (2006).\n",
    "Seaborn: https://seaborn.pydata.org/\n",
    "NLTK: https://www.nltk.org/"
   ]
  },
  {
   "cell_type": "markdown",
   "metadata": {},
   "source": [
    "### Inspiration "
   ]
  },
  {
   "cell_type": "markdown",
   "metadata": {},
   "source": [
    "Greg Rafferty (Some feature extraction ideas): https://github.com/raffg/trump-tweet-author-identification/tree/master/src"
   ]
  }
 ],
 "metadata": {
  "kernelspec": {
   "display_name": "Python 3",
   "language": "python",
   "name": "python3"
  },
  "language_info": {
   "codemirror_mode": {
    "name": "ipython",
    "version": 3
   },
   "file_extension": ".py",
   "mimetype": "text/x-python",
   "name": "python",
   "nbconvert_exporter": "python",
   "pygments_lexer": "ipython3",
   "version": "3.7.0"
  }
 },
 "nbformat": 4,
 "nbformat_minor": 2
}
